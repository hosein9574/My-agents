{
 "cells": [
  {
   "cell_type": "markdown",
   "metadata": {
    "id": "AVv_M1Dz9TDz"
   },
   "source": [
    "\n",
    " Purpose of Semantic Cache:\n",
    "\n",
    "Identifying similar or identical user requests.\n",
    "If a similar request is found, the information is retrieved from the cache instead of fetching it again from the original source.\n",
    "\n",
    " Why is the cache placed between the user and the vector database, not between the user and the model?\n",
    "\n",
    "If the cache is applied at the model’s response stage, the accuracy of the model’s answers may decrease.\n",
    "\n",
    " Why is this cache necessary?\n",
    "\n",
    "One optimization method is using a semantic cache to check whether a request has been made before.\n",
    "\n",
    " Two time-consuming stages in an RAG system:\n",
    "\n",
    "Retrieving information to construct an enriched prompt.\n",
    "Requesting a response from the language model.\n",
    "\n",
    "\n",
    "\n",
    "\n",
    "\n",
    "\n",
    "\n",
    "\n",
    "<img src=\"https://github.com/peremartra/Large-Language-Model-Notebooks-Course/blob/main/img/semantic_cache.jpg?raw=true\">\n",
    "\n"
   ]
  },
  {
   "cell_type": "markdown",
   "metadata": {
    "id": "uizxY8679TDz"
   },
   "source": [
    "# Import and load the libraries.\n",
    "To start we need to install the necesary Python packages.\n",
    "* **[sentence transformers](http:/www.sbert.net/)**. This library is necessary to transform the sentences into fixed-length vectors, also know as embeddings.\n",
    "* **[xformers](https://github.com/facebookresearch/xformers)**. it's a package that provides libraries an utilities to facilitate the work with transformers models. We need to install in order to avoid an error when we work with the model and embeddings.  \n",
    "* **[chromadb](https://www.trychroma.com/)**. This is our vector Database. ChromaDB is easy to use and open source, maybe the most used Vector Database used to store embeddings.\n",
    "* **[accelerate](https://github.com/huggingface/accelerate)** Necesary to run the Model in a GPU.  "
   ]
  },
  {
   "cell_type": "code",
   "execution_count": 1,
   "metadata": {
    "colab": {
     "base_uri": "https://localhost:8080/"
    },
    "execution": {
     "iopub.execute_input": "2024-02-29T17:30:10.787688Z",
     "iopub.status.busy": "2024-02-29T17:30:10.787382Z",
     "iopub.status.idle": "2024-02-29T17:34:12.804579Z",
     "shell.execute_reply": "2024-02-29T17:34:12.80338Z",
     "shell.execute_reply.started": "2024-02-29T17:30:10.787657Z"
    },
    "id": "r1nUzd1u9TD0",
    "outputId": "5a099247-73d8-4776-96a9-a58bfd79bada"
   },
   "outputs": [
    {
     "name": "stdout",
     "output_type": "stream",
     "text": [
      "Found existing installation: torch 2.2.0\n",
      "Uninstalling torch-2.2.0:\n",
      "  Successfully uninstalled torch-2.2.0\n",
      "Found existing installation: torchvision 0.17.0\n",
      "Uninstalling torchvision-0.17.0:\n",
      "  Successfully uninstalled torchvision-0.17.0\n",
      "Found existing installation: torchaudio 2.2.0\n",
      "Uninstalling torchaudio-2.2.0:\n",
      "  Successfully uninstalled torchaudio-2.2.0\n",
      "Found existing installation: transformers 4.38.1\n",
      "Uninstalling transformers-4.38.1:\n",
      "  Successfully uninstalled transformers-4.38.1\n",
      "Found existing installation: sentence-transformers 2.5.1\n",
      "Uninstalling sentence-transformers-2.5.1:\n",
      "  Successfully uninstalled sentence-transformers-2.5.1\n",
      "Found existing installation: accelerate 0.27.2\n",
      "Uninstalling accelerate-0.27.2:\n",
      "  Successfully uninstalled accelerate-0.27.2\n",
      "Found existing installation: xformers 0.0.24\n",
      "Uninstalling xformers-0.0.24:\n",
      "  Successfully uninstalled xformers-0.0.24\n",
      "Found existing installation: numpy 1.26.4\n",
      "Uninstalling numpy-1.26.4:\n",
      "  Successfully uninstalled numpy-1.26.4\n",
      "Collecting torch==2.2.0\n",
      "  Using cached torch-2.2.0-cp311-cp311-manylinux1_x86_64.whl.metadata (25 kB)\n",
      "Collecting torchvision==0.17.0\n",
      "  Using cached torchvision-0.17.0-cp311-cp311-manylinux1_x86_64.whl.metadata (6.6 kB)\n",
      "Collecting torchaudio==2.2.0\n",
      "  Using cached torchaudio-2.2.0-cp311-cp311-manylinux1_x86_64.whl.metadata (6.4 kB)\n",
      "Collecting transformers==4.38.1\n",
      "  Using cached transformers-4.38.1-py3-none-any.whl.metadata (131 kB)\n",
      "Collecting sentence-transformers==2.5.1\n",
      "  Using cached sentence_transformers-2.5.1-py3-none-any.whl.metadata (11 kB)\n",
      "Collecting accelerate==0.27.2\n",
      "  Using cached accelerate-0.27.2-py3-none-any.whl.metadata (18 kB)\n",
      "Collecting xformers==0.0.24\n",
      "  Using cached xformers-0.0.24-cp311-cp311-manylinux2014_x86_64.whl.metadata (1.0 kB)\n",
      "Requirement already satisfied: chromadb==0.4.24 in /usr/local/lib/python3.11/dist-packages (0.4.24)\n",
      "Requirement already satisfied: datasets==2.17.1 in /usr/local/lib/python3.11/dist-packages (2.17.1)\n",
      "Requirement already satisfied: faiss-cpu==1.8.0 in /usr/local/lib/python3.11/dist-packages (1.8.0)\n",
      "Collecting numpy==1.26.4\n",
      "  Using cached numpy-1.26.4-cp311-cp311-manylinux_2_17_x86_64.manylinux2014_x86_64.whl.metadata (61 kB)\n",
      "Requirement already satisfied: filelock in /usr/local/lib/python3.11/dist-packages (from torch==2.2.0) (3.18.0)\n",
      "Requirement already satisfied: typing-extensions>=4.8.0 in /usr/local/lib/python3.11/dist-packages (from torch==2.2.0) (4.13.2)\n",
      "Requirement already satisfied: sympy in /usr/local/lib/python3.11/dist-packages (from torch==2.2.0) (1.13.1)\n",
      "Requirement already satisfied: networkx in /usr/local/lib/python3.11/dist-packages (from torch==2.2.0) (3.4.2)\n",
      "Requirement already satisfied: jinja2 in /usr/local/lib/python3.11/dist-packages (from torch==2.2.0) (3.1.6)\n",
      "Requirement already satisfied: fsspec in /usr/local/lib/python3.11/dist-packages (from torch==2.2.0) (2023.10.0)\n",
      "Requirement already satisfied: nvidia-cuda-nvrtc-cu12==12.1.105 in /usr/local/lib/python3.11/dist-packages (from torch==2.2.0) (12.1.105)\n",
      "Requirement already satisfied: nvidia-cuda-runtime-cu12==12.1.105 in /usr/local/lib/python3.11/dist-packages (from torch==2.2.0) (12.1.105)\n",
      "Requirement already satisfied: nvidia-cuda-cupti-cu12==12.1.105 in /usr/local/lib/python3.11/dist-packages (from torch==2.2.0) (12.1.105)\n",
      "Requirement already satisfied: nvidia-cudnn-cu12==8.9.2.26 in /usr/local/lib/python3.11/dist-packages (from torch==2.2.0) (8.9.2.26)\n",
      "Requirement already satisfied: nvidia-cublas-cu12==12.1.3.1 in /usr/local/lib/python3.11/dist-packages (from torch==2.2.0) (12.1.3.1)\n",
      "Requirement already satisfied: nvidia-cufft-cu12==11.0.2.54 in /usr/local/lib/python3.11/dist-packages (from torch==2.2.0) (11.0.2.54)\n",
      "Requirement already satisfied: nvidia-curand-cu12==10.3.2.106 in /usr/local/lib/python3.11/dist-packages (from torch==2.2.0) (10.3.2.106)\n",
      "Requirement already satisfied: nvidia-cusolver-cu12==11.4.5.107 in /usr/local/lib/python3.11/dist-packages (from torch==2.2.0) (11.4.5.107)\n",
      "Requirement already satisfied: nvidia-cusparse-cu12==12.1.0.106 in /usr/local/lib/python3.11/dist-packages (from torch==2.2.0) (12.1.0.106)\n",
      "Requirement already satisfied: nvidia-nccl-cu12==2.19.3 in /usr/local/lib/python3.11/dist-packages (from torch==2.2.0) (2.19.3)\n",
      "Requirement already satisfied: nvidia-nvtx-cu12==12.1.105 in /usr/local/lib/python3.11/dist-packages (from torch==2.2.0) (12.1.105)\n",
      "Requirement already satisfied: triton==2.2.0 in /usr/local/lib/python3.11/dist-packages (from torch==2.2.0) (2.2.0)\n",
      "Requirement already satisfied: requests in /usr/local/lib/python3.11/dist-packages (from torchvision==0.17.0) (2.32.3)\n",
      "Requirement already satisfied: pillow!=8.3.*,>=5.3.0 in /usr/local/lib/python3.11/dist-packages (from torchvision==0.17.0) (11.2.1)\n",
      "Requirement already satisfied: huggingface-hub<1.0,>=0.19.3 in /usr/local/lib/python3.11/dist-packages (from transformers==4.38.1) (0.30.2)\n",
      "Requirement already satisfied: packaging>=20.0 in /usr/local/lib/python3.11/dist-packages (from transformers==4.38.1) (24.2)\n",
      "Requirement already satisfied: pyyaml>=5.1 in /usr/local/lib/python3.11/dist-packages (from transformers==4.38.1) (6.0.2)\n",
      "Requirement already satisfied: regex!=2019.12.17 in /usr/local/lib/python3.11/dist-packages (from transformers==4.38.1) (2024.11.6)\n",
      "Requirement already satisfied: tokenizers<0.19,>=0.14 in /usr/local/lib/python3.11/dist-packages (from transformers==4.38.1) (0.15.2)\n",
      "Requirement already satisfied: safetensors>=0.4.1 in /usr/local/lib/python3.11/dist-packages (from transformers==4.38.1) (0.5.3)\n",
      "Requirement already satisfied: tqdm>=4.27 in /usr/local/lib/python3.11/dist-packages (from transformers==4.38.1) (4.67.1)\n",
      "Requirement already satisfied: scikit-learn in /usr/local/lib/python3.11/dist-packages (from sentence-transformers==2.5.1) (1.6.1)\n",
      "Requirement already satisfied: scipy in /usr/local/lib/python3.11/dist-packages (from sentence-transformers==2.5.1) (1.15.2)\n",
      "Requirement already satisfied: psutil in /usr/local/lib/python3.11/dist-packages (from accelerate==0.27.2) (5.9.5)\n",
      "Requirement already satisfied: build>=1.0.3 in /usr/local/lib/python3.11/dist-packages (from chromadb==0.4.24) (1.2.2.post1)\n",
      "Requirement already satisfied: pydantic>=1.9 in /usr/local/lib/python3.11/dist-packages (from chromadb==0.4.24) (2.11.4)\n",
      "Requirement already satisfied: chroma-hnswlib==0.7.3 in /usr/local/lib/python3.11/dist-packages (from chromadb==0.4.24) (0.7.3)\n",
      "Requirement already satisfied: fastapi>=0.95.2 in /usr/local/lib/python3.11/dist-packages (from chromadb==0.4.24) (0.115.12)\n",
      "Requirement already satisfied: uvicorn>=0.18.3 in /usr/local/lib/python3.11/dist-packages (from uvicorn[standard]>=0.18.3->chromadb==0.4.24) (0.34.2)\n",
      "Requirement already satisfied: posthog>=2.4.0 in /usr/local/lib/python3.11/dist-packages (from chromadb==0.4.24) (4.0.1)\n",
      "Requirement already satisfied: pulsar-client>=3.1.0 in /usr/local/lib/python3.11/dist-packages (from chromadb==0.4.24) (3.6.1)\n",
      "Requirement already satisfied: onnxruntime>=1.14.1 in /usr/local/lib/python3.11/dist-packages (from chromadb==0.4.24) (1.21.1)\n",
      "Requirement already satisfied: opentelemetry-api>=1.2.0 in /usr/local/lib/python3.11/dist-packages (from chromadb==0.4.24) (1.32.1)\n",
      "Requirement already satisfied: opentelemetry-exporter-otlp-proto-grpc>=1.2.0 in /usr/local/lib/python3.11/dist-packages (from chromadb==0.4.24) (1.32.1)\n",
      "Requirement already satisfied: opentelemetry-instrumentation-fastapi>=0.41b0 in /usr/local/lib/python3.11/dist-packages (from chromadb==0.4.24) (0.53b1)\n",
      "Requirement already satisfied: opentelemetry-sdk>=1.2.0 in /usr/local/lib/python3.11/dist-packages (from chromadb==0.4.24) (1.32.1)\n",
      "Requirement already satisfied: pypika>=0.48.9 in /usr/local/lib/python3.11/dist-packages (from chromadb==0.4.24) (0.48.9)\n",
      "Requirement already satisfied: overrides>=7.3.1 in /usr/local/lib/python3.11/dist-packages (from chromadb==0.4.24) (7.7.0)\n",
      "Requirement already satisfied: importlib-resources in /usr/local/lib/python3.11/dist-packages (from chromadb==0.4.24) (6.5.2)\n",
      "Requirement already satisfied: grpcio>=1.58.0 in /usr/local/lib/python3.11/dist-packages (from chromadb==0.4.24) (1.71.0)\n",
      "Requirement already satisfied: bcrypt>=4.0.1 in /usr/local/lib/python3.11/dist-packages (from chromadb==0.4.24) (4.3.0)\n",
      "Requirement already satisfied: typer>=0.9.0 in /usr/local/lib/python3.11/dist-packages (from chromadb==0.4.24) (0.15.3)\n",
      "Requirement already satisfied: kubernetes>=28.1.0 in /usr/local/lib/python3.11/dist-packages (from chromadb==0.4.24) (32.0.1)\n",
      "Requirement already satisfied: tenacity>=8.2.3 in /usr/local/lib/python3.11/dist-packages (from chromadb==0.4.24) (9.1.2)\n",
      "Requirement already satisfied: mmh3>=4.0.1 in /usr/local/lib/python3.11/dist-packages (from chromadb==0.4.24) (5.1.0)\n",
      "Requirement already satisfied: orjson>=3.9.12 in /usr/local/lib/python3.11/dist-packages (from chromadb==0.4.24) (3.10.18)\n",
      "Requirement already satisfied: pyarrow>=12.0.0 in /usr/local/lib/python3.11/dist-packages (from datasets==2.17.1) (18.1.0)\n",
      "Requirement already satisfied: pyarrow-hotfix in /usr/local/lib/python3.11/dist-packages (from datasets==2.17.1) (0.7)\n",
      "Requirement already satisfied: dill<0.3.9,>=0.3.0 in /usr/local/lib/python3.11/dist-packages (from datasets==2.17.1) (0.3.8)\n",
      "Requirement already satisfied: pandas in /usr/local/lib/python3.11/dist-packages (from datasets==2.17.1) (2.2.2)\n",
      "Requirement already satisfied: xxhash in /usr/local/lib/python3.11/dist-packages (from datasets==2.17.1) (3.5.0)\n",
      "Requirement already satisfied: multiprocess in /usr/local/lib/python3.11/dist-packages (from datasets==2.17.1) (0.70.16)\n",
      "Requirement already satisfied: aiohttp in /usr/local/lib/python3.11/dist-packages (from datasets==2.17.1) (3.11.15)\n",
      "Requirement already satisfied: nvidia-nvjitlink-cu12 in /usr/local/lib/python3.11/dist-packages (from nvidia-cusolver-cu12==11.4.5.107->torch==2.2.0) (12.5.82)\n",
      "Requirement already satisfied: pyproject_hooks in /usr/local/lib/python3.11/dist-packages (from build>=1.0.3->chromadb==0.4.24) (1.2.0)\n",
      "Requirement already satisfied: starlette<0.47.0,>=0.40.0 in /usr/local/lib/python3.11/dist-packages (from fastapi>=0.95.2->chromadb==0.4.24) (0.46.2)\n",
      "Requirement already satisfied: aiohappyeyeballs>=2.3.0 in /usr/local/lib/python3.11/dist-packages (from aiohttp->datasets==2.17.1) (2.6.1)\n",
      "Requirement already satisfied: aiosignal>=1.1.2 in /usr/local/lib/python3.11/dist-packages (from aiohttp->datasets==2.17.1) (1.3.2)\n",
      "Requirement already satisfied: attrs>=17.3.0 in /usr/local/lib/python3.11/dist-packages (from aiohttp->datasets==2.17.1) (25.3.0)\n",
      "Requirement already satisfied: frozenlist>=1.1.1 in /usr/local/lib/python3.11/dist-packages (from aiohttp->datasets==2.17.1) (1.6.0)\n",
      "Requirement already satisfied: multidict<7.0,>=4.5 in /usr/local/lib/python3.11/dist-packages (from aiohttp->datasets==2.17.1) (6.4.3)\n",
      "Requirement already satisfied: propcache>=0.2.0 in /usr/local/lib/python3.11/dist-packages (from aiohttp->datasets==2.17.1) (0.3.1)\n",
      "Requirement already satisfied: yarl<2.0,>=1.17.0 in /usr/local/lib/python3.11/dist-packages (from aiohttp->datasets==2.17.1) (1.20.0)\n",
      "Requirement already satisfied: certifi>=14.05.14 in /usr/local/lib/python3.11/dist-packages (from kubernetes>=28.1.0->chromadb==0.4.24) (2025.4.26)\n",
      "Requirement already satisfied: six>=1.9.0 in /usr/local/lib/python3.11/dist-packages (from kubernetes>=28.1.0->chromadb==0.4.24) (1.17.0)\n",
      "Requirement already satisfied: python-dateutil>=2.5.3 in /usr/local/lib/python3.11/dist-packages (from kubernetes>=28.1.0->chromadb==0.4.24) (2.9.0.post0)\n",
      "Requirement already satisfied: google-auth>=1.0.1 in /usr/local/lib/python3.11/dist-packages (from kubernetes>=28.1.0->chromadb==0.4.24) (2.38.0)\n",
      "Requirement already satisfied: websocket-client!=0.40.0,!=0.41.*,!=0.42.*,>=0.32.0 in /usr/local/lib/python3.11/dist-packages (from kubernetes>=28.1.0->chromadb==0.4.24) (1.8.0)\n",
      "Requirement already satisfied: requests-oauthlib in /usr/local/lib/python3.11/dist-packages (from kubernetes>=28.1.0->chromadb==0.4.24) (2.0.0)\n",
      "Requirement already satisfied: oauthlib>=3.2.2 in /usr/local/lib/python3.11/dist-packages (from kubernetes>=28.1.0->chromadb==0.4.24) (3.2.2)\n",
      "Requirement already satisfied: urllib3>=1.24.2 in /usr/local/lib/python3.11/dist-packages (from kubernetes>=28.1.0->chromadb==0.4.24) (2.4.0)\n",
      "Requirement already satisfied: durationpy>=0.7 in /usr/local/lib/python3.11/dist-packages (from kubernetes>=28.1.0->chromadb==0.4.24) (0.9)\n",
      "Requirement already satisfied: coloredlogs in /usr/local/lib/python3.11/dist-packages (from onnxruntime>=1.14.1->chromadb==0.4.24) (15.0.1)\n",
      "Requirement already satisfied: flatbuffers in /usr/local/lib/python3.11/dist-packages (from onnxruntime>=1.14.1->chromadb==0.4.24) (25.2.10)\n",
      "Requirement already satisfied: protobuf in /usr/local/lib/python3.11/dist-packages (from onnxruntime>=1.14.1->chromadb==0.4.24) (5.29.4)\n",
      "Requirement already satisfied: deprecated>=1.2.6 in /usr/local/lib/python3.11/dist-packages (from opentelemetry-api>=1.2.0->chromadb==0.4.24) (1.2.18)\n",
      "Requirement already satisfied: importlib-metadata<8.7.0,>=6.0 in /usr/local/lib/python3.11/dist-packages (from opentelemetry-api>=1.2.0->chromadb==0.4.24) (8.6.1)\n",
      "Requirement already satisfied: googleapis-common-protos~=1.52 in /usr/local/lib/python3.11/dist-packages (from opentelemetry-exporter-otlp-proto-grpc>=1.2.0->chromadb==0.4.24) (1.70.0)\n",
      "Requirement already satisfied: opentelemetry-exporter-otlp-proto-common==1.32.1 in /usr/local/lib/python3.11/dist-packages (from opentelemetry-exporter-otlp-proto-grpc>=1.2.0->chromadb==0.4.24) (1.32.1)\n",
      "Requirement already satisfied: opentelemetry-proto==1.32.1 in /usr/local/lib/python3.11/dist-packages (from opentelemetry-exporter-otlp-proto-grpc>=1.2.0->chromadb==0.4.24) (1.32.1)\n",
      "Requirement already satisfied: opentelemetry-instrumentation-asgi==0.53b1 in /usr/local/lib/python3.11/dist-packages (from opentelemetry-instrumentation-fastapi>=0.41b0->chromadb==0.4.24) (0.53b1)\n",
      "Requirement already satisfied: opentelemetry-instrumentation==0.53b1 in /usr/local/lib/python3.11/dist-packages (from opentelemetry-instrumentation-fastapi>=0.41b0->chromadb==0.4.24) (0.53b1)\n",
      "Requirement already satisfied: opentelemetry-semantic-conventions==0.53b1 in /usr/local/lib/python3.11/dist-packages (from opentelemetry-instrumentation-fastapi>=0.41b0->chromadb==0.4.24) (0.53b1)\n",
      "Requirement already satisfied: opentelemetry-util-http==0.53b1 in /usr/local/lib/python3.11/dist-packages (from opentelemetry-instrumentation-fastapi>=0.41b0->chromadb==0.4.24) (0.53b1)\n",
      "Requirement already satisfied: wrapt<2.0.0,>=1.0.0 in /usr/local/lib/python3.11/dist-packages (from opentelemetry-instrumentation==0.53b1->opentelemetry-instrumentation-fastapi>=0.41b0->chromadb==0.4.24) (1.17.2)\n",
      "Requirement already satisfied: asgiref~=3.0 in /usr/local/lib/python3.11/dist-packages (from opentelemetry-instrumentation-asgi==0.53b1->opentelemetry-instrumentation-fastapi>=0.41b0->chromadb==0.4.24) (3.8.1)\n",
      "Requirement already satisfied: backoff>=1.10.0 in /usr/local/lib/python3.11/dist-packages (from posthog>=2.4.0->chromadb==0.4.24) (2.2.1)\n",
      "Requirement already satisfied: distro>=1.5.0 in /usr/local/lib/python3.11/dist-packages (from posthog>=2.4.0->chromadb==0.4.24) (1.9.0)\n",
      "Requirement already satisfied: annotated-types>=0.6.0 in /usr/local/lib/python3.11/dist-packages (from pydantic>=1.9->chromadb==0.4.24) (0.7.0)\n",
      "Requirement already satisfied: pydantic-core==2.33.2 in /usr/local/lib/python3.11/dist-packages (from pydantic>=1.9->chromadb==0.4.24) (2.33.2)\n",
      "Requirement already satisfied: typing-inspection>=0.4.0 in /usr/local/lib/python3.11/dist-packages (from pydantic>=1.9->chromadb==0.4.24) (0.4.0)\n",
      "Requirement already satisfied: charset-normalizer<4,>=2 in /usr/local/lib/python3.11/dist-packages (from requests->torchvision==0.17.0) (3.4.1)\n",
      "Requirement already satisfied: idna<4,>=2.5 in /usr/local/lib/python3.11/dist-packages (from requests->torchvision==0.17.0) (3.10)\n",
      "Requirement already satisfied: click>=8.0.0 in /usr/local/lib/python3.11/dist-packages (from typer>=0.9.0->chromadb==0.4.24) (8.1.8)\n",
      "Requirement already satisfied: shellingham>=1.3.0 in /usr/local/lib/python3.11/dist-packages (from typer>=0.9.0->chromadb==0.4.24) (1.5.4)\n",
      "Requirement already satisfied: rich>=10.11.0 in /usr/local/lib/python3.11/dist-packages (from typer>=0.9.0->chromadb==0.4.24) (13.9.4)\n",
      "Requirement already satisfied: h11>=0.8 in /usr/local/lib/python3.11/dist-packages (from uvicorn>=0.18.3->uvicorn[standard]>=0.18.3->chromadb==0.4.24) (0.16.0)\n",
      "Requirement already satisfied: httptools>=0.6.3 in /usr/local/lib/python3.11/dist-packages (from uvicorn[standard]>=0.18.3->chromadb==0.4.24) (0.6.4)\n",
      "Requirement already satisfied: python-dotenv>=0.13 in /usr/local/lib/python3.11/dist-packages (from uvicorn[standard]>=0.18.3->chromadb==0.4.24) (1.1.0)\n",
      "Requirement already satisfied: uvloop!=0.15.0,!=0.15.1,>=0.14.0 in /usr/local/lib/python3.11/dist-packages (from uvicorn[standard]>=0.18.3->chromadb==0.4.24) (0.21.0)\n",
      "Requirement already satisfied: watchfiles>=0.13 in /usr/local/lib/python3.11/dist-packages (from uvicorn[standard]>=0.18.3->chromadb==0.4.24) (1.0.5)\n",
      "Requirement already satisfied: websockets>=10.4 in /usr/local/lib/python3.11/dist-packages (from uvicorn[standard]>=0.18.3->chromadb==0.4.24) (15.0.1)\n",
      "Requirement already satisfied: MarkupSafe>=2.0 in /usr/local/lib/python3.11/dist-packages (from jinja2->torch==2.2.0) (3.0.2)\n",
      "Requirement already satisfied: pytz>=2020.1 in /usr/local/lib/python3.11/dist-packages (from pandas->datasets==2.17.1) (2025.2)\n",
      "Requirement already satisfied: tzdata>=2022.7 in /usr/local/lib/python3.11/dist-packages (from pandas->datasets==2.17.1) (2025.2)\n",
      "Requirement already satisfied: joblib>=1.2.0 in /usr/local/lib/python3.11/dist-packages (from scikit-learn->sentence-transformers==2.5.1) (1.4.2)\n",
      "Requirement already satisfied: threadpoolctl>=3.1.0 in /usr/local/lib/python3.11/dist-packages (from scikit-learn->sentence-transformers==2.5.1) (3.6.0)\n",
      "Requirement already satisfied: mpmath<1.4,>=1.1.0 in /usr/local/lib/python3.11/dist-packages (from sympy->torch==2.2.0) (1.3.0)\n",
      "Requirement already satisfied: cachetools<6.0,>=2.0.0 in /usr/local/lib/python3.11/dist-packages (from google-auth>=1.0.1->kubernetes>=28.1.0->chromadb==0.4.24) (5.5.2)\n",
      "Requirement already satisfied: pyasn1-modules>=0.2.1 in /usr/local/lib/python3.11/dist-packages (from google-auth>=1.0.1->kubernetes>=28.1.0->chromadb==0.4.24) (0.4.2)\n",
      "Requirement already satisfied: rsa<5,>=3.1.4 in /usr/local/lib/python3.11/dist-packages (from google-auth>=1.0.1->kubernetes>=28.1.0->chromadb==0.4.24) (4.9.1)\n",
      "Requirement already satisfied: zipp>=3.20 in /usr/local/lib/python3.11/dist-packages (from importlib-metadata<8.7.0,>=6.0->opentelemetry-api>=1.2.0->chromadb==0.4.24) (3.21.0)\n",
      "Requirement already satisfied: markdown-it-py>=2.2.0 in /usr/local/lib/python3.11/dist-packages (from rich>=10.11.0->typer>=0.9.0->chromadb==0.4.24) (3.0.0)\n",
      "Requirement already satisfied: pygments<3.0.0,>=2.13.0 in /usr/local/lib/python3.11/dist-packages (from rich>=10.11.0->typer>=0.9.0->chromadb==0.4.24) (2.19.1)\n",
      "Requirement already satisfied: anyio<5,>=3.6.2 in /usr/local/lib/python3.11/dist-packages (from starlette<0.47.0,>=0.40.0->fastapi>=0.95.2->chromadb==0.4.24) (4.9.0)\n",
      "Requirement already satisfied: humanfriendly>=9.1 in /usr/local/lib/python3.11/dist-packages (from coloredlogs->onnxruntime>=1.14.1->chromadb==0.4.24) (10.0)\n",
      "Requirement already satisfied: sniffio>=1.1 in /usr/local/lib/python3.11/dist-packages (from anyio<5,>=3.6.2->starlette<0.47.0,>=0.40.0->fastapi>=0.95.2->chromadb==0.4.24) (1.3.1)\n",
      "Requirement already satisfied: mdurl~=0.1 in /usr/local/lib/python3.11/dist-packages (from markdown-it-py>=2.2.0->rich>=10.11.0->typer>=0.9.0->chromadb==0.4.24) (0.1.2)\n",
      "Requirement already satisfied: pyasn1<0.7.0,>=0.6.1 in /usr/local/lib/python3.11/dist-packages (from pyasn1-modules>=0.2.1->google-auth>=1.0.1->kubernetes>=28.1.0->chromadb==0.4.24) (0.6.1)\n",
      "Using cached torch-2.2.0-cp311-cp311-manylinux1_x86_64.whl (755.5 MB)\n",
      "Using cached torchvision-0.17.0-cp311-cp311-manylinux1_x86_64.whl (6.9 MB)\n",
      "Using cached torchaudio-2.2.0-cp311-cp311-manylinux1_x86_64.whl (3.3 MB)\n",
      "Using cached transformers-4.38.1-py3-none-any.whl (8.5 MB)\n",
      "Using cached sentence_transformers-2.5.1-py3-none-any.whl (156 kB)\n",
      "Using cached accelerate-0.27.2-py3-none-any.whl (279 kB)\n",
      "Using cached xformers-0.0.24-cp311-cp311-manylinux2014_x86_64.whl (218.2 MB)\n",
      "Using cached numpy-1.26.4-cp311-cp311-manylinux_2_17_x86_64.manylinux2014_x86_64.whl (18.3 MB)\n",
      "Installing collected packages: numpy, torch, xformers, transformers, torchvision, torchaudio, accelerate, sentence-transformers\n",
      "\u001b[31mERROR: pip's dependency resolver does not currently take into account all the packages that are installed. This behaviour is the source of the following dependency conflicts.\n",
      "thinc 8.3.6 requires numpy<3.0.0,>=2.0.0, but you have numpy 1.26.4 which is incompatible.\u001b[0m\u001b[31m\n",
      "\u001b[0mSuccessfully installed accelerate-0.27.2 numpy-1.26.4 sentence-transformers-2.5.1 torch-2.2.0 torchaudio-2.2.0 torchvision-0.17.0 transformers-4.38.1 xformers-0.0.24\n"
     ]
    }
   ],
   "source": [
    "# Uninstall preinstalled conflicting packages\n",
    "!pip uninstall -y torch torchvision torchaudio transformers sentence-transformers accelerate xformers numpy\n",
    "\n",
    "# Reinstall everything together to avoid dependency issues\n",
    "!pip install \\\n",
    "  torch==2.2.0 torchvision==0.17.0 torchaudio==2.2.0 \\\n",
    "  transformers==4.38.1 \\\n",
    "  sentence-transformers==2.5.1 \\\n",
    "  accelerate==0.27.2 \\\n",
    "  xformers==0.0.24 \\\n",
    "  chromadb==0.4.24 \\\n",
    "  datasets==2.17.1 \\\n",
    "  faiss-cpu==1.8.0 \\\n",
    "  numpy==1.26.4"
   ]
  },
  {
   "cell_type": "code",
   "execution_count": 2,
   "metadata": {
    "execution": {
     "iopub.execute_input": "2024-02-29T17:35:23.197598Z",
     "iopub.status.busy": "2024-02-29T17:35:23.197205Z",
     "iopub.status.idle": "2024-02-29T17:35:23.202259Z",
     "shell.execute_reply": "2024-02-29T17:35:23.201404Z",
     "shell.execute_reply.started": "2024-02-29T17:35:23.197556Z"
    },
    "id": "5jUwC_eE9TD0"
   },
   "outputs": [],
   "source": [
    "import numpy as np\n",
    "import pandas as pd"
   ]
  },
  {
   "cell_type": "code",
   "execution_count": 3,
   "metadata": {
    "colab": {
     "base_uri": "https://localhost:8080/"
    },
    "id": "xZsN8yzUvfjN",
    "outputId": "e34d7c1f-1f3a-44ed-9985-ea1ca7c24d5e"
   },
   "outputs": [
    {
     "name": "stdout",
     "output_type": "stream",
     "text": [
      "Your Hugging Face API Key: ··········\n",
      "The token has not been saved to the git credentials helper. Pass `add_to_git_credential=True` in this function directly or `--add-to-git-credential` if using via `huggingface-cli` if you want to set the git credential as well.\n",
      "Token is valid (permission: fineGrained).\n",
      "The token `sementic3` has been saved to /root/.cache/huggingface/stored_tokens\n",
      "Your token has been saved to /root/.cache/huggingface/token\n",
      "Login successful.\n",
      "The current active token is: `sementic3`\n"
     ]
    }
   ],
   "source": [
    "#Login to Hugging Face. It is mandatory to use the Gemma Model,\n",
    "#and recommended to acces public models and Datasets.\n",
    "from getpass import getpass\n",
    "if 'hf_key' not in locals():\n",
    "  hf_key = getpass(\"Your Hugging Face API Key: \")\n",
    "!huggingface-cli login --token $hf_key"
   ]
  },
  {
   "cell_type": "code",
   "execution_count": 4,
   "metadata": {
    "colab": {
     "base_uri": "https://localhost:8080/",
     "height": 217,
     "referenced_widgets": [
      "8cf3760c1bbb46d48b917189bcda8c32",
      "937ad64b8cff4abd992bcb4b5f326bcb",
      "6f5a25dc4383430ab939a813581a3bb4",
      "3158535eb71b475cb5889f0a04e8101a",
      "fb88af6b882c452ea9426c6f17fb61d8",
      "6b41aa7b554c48919aa06895f9401c12",
      "28bb9c49e60a4d779c2d7ac21cf0404d",
      "ed3bd3c084db4f45b8106bf38443cda0",
      "b7e10ce2c5474a06ada950266a3429e2",
      "49470f1db68848a68a6662dffecb38aa",
      "d094b732c1674b1986ba6190e99d5886",
      "0022ea380d6f40548ed88d5316762069",
      "17f6e7541518409180d4c92c6a492e7a",
      "6614d35234e8481fb0bebabd07011954",
      "10af66d96916420c9278066e29fafb38",
      "74d2ee59d9a4407c9b2009aefccf4c15",
      "a106b661153748528b558da6859564e1",
      "ce15f20294b04110ae4a207ffcfe63f3",
      "62163e8bed0241539f4d6bff49b4220e",
      "22e55eab4e6e47c5aa21ea160a046cc9",
      "4e07fb7fe71549458de927d021adf6b3",
      "3775a37bc21347d1a1b9211864a94508",
      "a7f36617c2eb4604a1f403951a21d723",
      "988659b2dbdb4a55adb4f0467907d15b",
      "77e17dbc7bbd4ecf8f2e43d1f73e4a59",
      "22ab5251c44648c3b4d70dddf5f0b2a2",
      "3859b762896441a79fb0947259f726ad",
      "e979f0a416314d0288ebb7808fa544f0",
      "23687b372ab740548999d45253847d2f",
      "adf8e24878284377840063a33c254095",
      "b531be95423840db8d5c2fff0183119c",
      "7346ed4c60ee4c4c869ebd7159b3f8ce",
      "5fd3af1880e643d382ee83835fc1d688"
     ]
    },
    "id": "9IVxu-uxtCTw",
    "outputId": "69208b57-0218-4cd1-9542-569dec2756af"
   },
   "outputs": [
    {
     "name": "stderr",
     "output_type": "stream",
     "text": [
      "/usr/local/lib/python3.11/dist-packages/huggingface_hub/utils/_auth.py:94: UserWarning: \n",
      "The secret `HF_TOKEN` does not exist in your Colab secrets.\n",
      "To authenticate with the Hugging Face Hub, create a token in your settings tab (https://huggingface.co/settings/tokens), set it as secret in your Google Colab and restart your session.\n",
      "You will be able to reuse this secret in all of your notebooks.\n",
      "Please note that authentication is recommended but still optional to access public models or datasets.\n",
      "  warnings.warn(\n"
     ]
    },
    {
     "data": {
      "application/vnd.jupyter.widget-view+json": {
       "model_id": "8cf3760c1bbb46d48b917189bcda8c32",
       "version_major": 2,
       "version_minor": 0
      },
      "text/plain": [
       "Downloading readme:   0%|          | 0.00/233 [00:00<?, ?B/s]"
      ]
     },
     "metadata": {},
     "output_type": "display_data"
    },
    {
     "data": {
      "application/vnd.jupyter.widget-view+json": {
       "model_id": "0022ea380d6f40548ed88d5316762069",
       "version_major": 2,
       "version_minor": 0
      },
      "text/plain": [
       "Downloading data:   0%|          | 0.00/22.5M [00:00<?, ?B/s]"
      ]
     },
     "metadata": {},
     "output_type": "display_data"
    },
    {
     "data": {
      "application/vnd.jupyter.widget-view+json": {
       "model_id": "a7f36617c2eb4604a1f403951a21d723",
       "version_major": 2,
       "version_minor": 0
      },
      "text/plain": [
       "Generating train split: 0 examples [00:00, ? examples/s]"
      ]
     },
     "metadata": {},
     "output_type": "display_data"
    }
   ],
   "source": [
    "from datasets import load_dataset\n",
    "data = load_dataset(\"keivalya/MedQuad-MedicalQnADataset\", split='train')     # download the dataset from Hugging Face related to MedicalQnA"
   ]
  },
  {
   "cell_type": "code",
   "execution_count": 5,
   "metadata": {
    "colab": {
     "base_uri": "https://localhost:8080/",
     "height": 424
    },
    "id": "WbLf8c7_yHwy",
    "outputId": "2b06f16e-0163-4887-e0a4-00572f496482"
   },
   "outputs": [
    {
     "data": {
      "application/vnd.google.colaboratory.intrinsic+json": {
       "summary": "{\n  \"name\": \"data\",\n  \"rows\": 16407,\n  \"fields\": [\n    {\n      \"column\": \"qtype\",\n      \"properties\": {\n        \"dtype\": \"category\",\n        \"num_unique_values\": 16,\n        \"samples\": [\n          \"susceptibility\",\n          \"symptoms\",\n          \"information\"\n        ],\n        \"semantic_type\": \"\",\n        \"description\": \"\"\n      }\n    },\n    {\n      \"column\": \"Question\",\n      \"properties\": {\n        \"dtype\": \"string\",\n        \"num_unique_values\": 14979,\n        \"samples\": [\n          \"What are the symptoms of Danon disease ?\",\n          \"What is (are) Dowling-Degos disease ?\",\n          \"What are the genetic changes related to Pearson marrow-pancreas syndrome ?\"\n        ],\n        \"semantic_type\": \"\",\n        \"description\": \"\"\n      }\n    },\n    {\n      \"column\": \"Answer\",\n      \"properties\": {\n        \"dtype\": \"string\",\n        \"num_unique_values\": 15817,\n        \"samples\": [\n          \"These resources address the diagnosis or management of glycogen storage disease type III:  - Gene Review: Gene Review: Glycogen Storage Disease Type III  - Genetic Testing Registry: Glycogen storage disease type III   These resources from MedlinePlus offer information about the diagnosis and management of various health conditions:  - Diagnostic Tests  - Drug Therapy  - Surgery and Rehabilitation  - Genetic Counseling   - Palliative Care\",\n          \"Diagnostic Challenges\\n  \\nFor doctors, diagnosing chronic fatigue syndrome (CFS) can be complicated by a number of factors:\\n  \\n   - There's no lab test or biomarker for CFS.\\n   - Fatigue and other symptoms of CFS are common to many illnesses.\\n   - For some CFS patients, it may not be obvious to doctors that they are ill.\\n   - The illness has a pattern of remission and relapse.\\n   - Symptoms vary from person to person in type, number, and severity.\\n  \\n  \\nThese factors have contributed to a low diagnosis rate. Of the one to four million Americans who have CFS, less than 20% have been diagnosed.\\n  Exams and Screening Tests for CFS\\n  \\nBecause there is no blood test, brain scan, or other lab test to diagnose CFS, the doctor should first rule out other possible causes.\\n  \\nIf a patient has had 6 or more consecutive months of severe fatigue that is reported to be unrelieved by sufficient bed rest and that is accompanied by nonspecific symptoms, including flu-like symptoms, generalized pain, and memory problems, the doctor should consider the possibility that the patient may have CFS. Further exams and tests are needed before a diagnosis can be made:\\n  \\n   - A detailed medical history will be needed and should include a review of medications that could be causing the fatigue and symptoms\\n   - A thorough physical and mental status examination will also be needed\\n   - A battery of laboratory screening tests will be needed to help identify or rule out other possible causes of the symptoms that could be treated\\n   - The doctor may also order additional tests to follow up on results of the initial screening tests\\n  \\n  \\nA CFS diagnosis requires that the patient has been fatigued for 6 months or more and has 4 of the 8 symptoms for CFS for 6 months or more. If, however, the patient has been fatigued for 6 months or more but does not have four of the eight symptoms, the diagnosis may be idiopathic fatigue.\\n  \\nThe complete process for diagnosing CFS can be found here.\\n  \\nAdditional information for healthcare professionals on use of tests can be found here.\",\n          \"Eating, diet, and nutrition have not been shown to play a role in causing or preventing simple kidney cysts.\"\n        ],\n        \"semantic_type\": \"\",\n        \"description\": \"\"\n      }\n    }\n  ]\n}",
       "type": "dataframe",
       "variable_name": "data"
      },
      "text/html": [
       "\n",
       "  <div id=\"df-37e1a708-6cd8-4ce9-b176-120f8e38f319\" class=\"colab-df-container\">\n",
       "    <div>\n",
       "<style scoped>\n",
       "    .dataframe tbody tr th:only-of-type {\n",
       "        vertical-align: middle;\n",
       "    }\n",
       "\n",
       "    .dataframe tbody tr th {\n",
       "        vertical-align: top;\n",
       "    }\n",
       "\n",
       "    .dataframe thead th {\n",
       "        text-align: right;\n",
       "    }\n",
       "</style>\n",
       "<table border=\"1\" class=\"dataframe\">\n",
       "  <thead>\n",
       "    <tr style=\"text-align: right;\">\n",
       "      <th></th>\n",
       "      <th>qtype</th>\n",
       "      <th>Question</th>\n",
       "      <th>Answer</th>\n",
       "    </tr>\n",
       "  </thead>\n",
       "  <tbody>\n",
       "    <tr>\n",
       "      <th>0</th>\n",
       "      <td>susceptibility</td>\n",
       "      <td>Who is at risk for Lymphocytic Choriomeningiti...</td>\n",
       "      <td>LCMV infections can occur after exposure to fr...</td>\n",
       "    </tr>\n",
       "    <tr>\n",
       "      <th>1</th>\n",
       "      <td>symptoms</td>\n",
       "      <td>What are the symptoms of Lymphocytic Choriomen...</td>\n",
       "      <td>LCMV is most commonly recognized as causing ne...</td>\n",
       "    </tr>\n",
       "    <tr>\n",
       "      <th>2</th>\n",
       "      <td>susceptibility</td>\n",
       "      <td>Who is at risk for Lymphocytic Choriomeningiti...</td>\n",
       "      <td>Individuals of all ages who come into contact ...</td>\n",
       "    </tr>\n",
       "    <tr>\n",
       "      <th>3</th>\n",
       "      <td>exams and tests</td>\n",
       "      <td>How to diagnose Lymphocytic Choriomeningitis (...</td>\n",
       "      <td>During the first phase of the disease, the mos...</td>\n",
       "    </tr>\n",
       "    <tr>\n",
       "      <th>4</th>\n",
       "      <td>treatment</td>\n",
       "      <td>What are the treatments for Lymphocytic Chorio...</td>\n",
       "      <td>Aseptic meningitis, encephalitis, or meningoen...</td>\n",
       "    </tr>\n",
       "    <tr>\n",
       "      <th>...</th>\n",
       "      <td>...</td>\n",
       "      <td>...</td>\n",
       "      <td>...</td>\n",
       "    </tr>\n",
       "    <tr>\n",
       "      <th>16402</th>\n",
       "      <td>symptoms</td>\n",
       "      <td>What are the symptoms of Familial visceral myo...</td>\n",
       "      <td>What are the signs and symptoms of Familial vi...</td>\n",
       "    </tr>\n",
       "    <tr>\n",
       "      <th>16403</th>\n",
       "      <td>information</td>\n",
       "      <td>What is (are) Pseudopelade of Brocq ?</td>\n",
       "      <td>Pseudopelade of Brocq (PBB) is a slowly progre...</td>\n",
       "    </tr>\n",
       "    <tr>\n",
       "      <th>16404</th>\n",
       "      <td>symptoms</td>\n",
       "      <td>What are the symptoms of Pseudopelade of Brocq ?</td>\n",
       "      <td>What are the signs and symptoms of Pseudopelad...</td>\n",
       "    </tr>\n",
       "    <tr>\n",
       "      <th>16405</th>\n",
       "      <td>treatment</td>\n",
       "      <td>What are the treatments for Pseudopelade of Br...</td>\n",
       "      <td>Is there treatment or a cure for pseudopelade ...</td>\n",
       "    </tr>\n",
       "    <tr>\n",
       "      <th>16406</th>\n",
       "      <td>information</td>\n",
       "      <td>What is (are) Desmoplastic small round cell tu...</td>\n",
       "      <td>Desmoplastic small round cell tumors (DSRCT), ...</td>\n",
       "    </tr>\n",
       "  </tbody>\n",
       "</table>\n",
       "<p>16407 rows × 3 columns</p>\n",
       "</div>\n",
       "    <div class=\"colab-df-buttons\">\n",
       "\n",
       "  <div class=\"colab-df-container\">\n",
       "    <button class=\"colab-df-convert\" onclick=\"convertToInteractive('df-37e1a708-6cd8-4ce9-b176-120f8e38f319')\"\n",
       "            title=\"Convert this dataframe to an interactive table.\"\n",
       "            style=\"display:none;\">\n",
       "\n",
       "  <svg xmlns=\"http://www.w3.org/2000/svg\" height=\"24px\" viewBox=\"0 -960 960 960\">\n",
       "    <path d=\"M120-120v-720h720v720H120Zm60-500h600v-160H180v160Zm220 220h160v-160H400v160Zm0 220h160v-160H400v160ZM180-400h160v-160H180v160Zm440 0h160v-160H620v160ZM180-180h160v-160H180v160Zm440 0h160v-160H620v160Z\"/>\n",
       "  </svg>\n",
       "    </button>\n",
       "\n",
       "  <style>\n",
       "    .colab-df-container {\n",
       "      display:flex;\n",
       "      gap: 12px;\n",
       "    }\n",
       "\n",
       "    .colab-df-convert {\n",
       "      background-color: #E8F0FE;\n",
       "      border: none;\n",
       "      border-radius: 50%;\n",
       "      cursor: pointer;\n",
       "      display: none;\n",
       "      fill: #1967D2;\n",
       "      height: 32px;\n",
       "      padding: 0 0 0 0;\n",
       "      width: 32px;\n",
       "    }\n",
       "\n",
       "    .colab-df-convert:hover {\n",
       "      background-color: #E2EBFA;\n",
       "      box-shadow: 0px 1px 2px rgba(60, 64, 67, 0.3), 0px 1px 3px 1px rgba(60, 64, 67, 0.15);\n",
       "      fill: #174EA6;\n",
       "    }\n",
       "\n",
       "    .colab-df-buttons div {\n",
       "      margin-bottom: 4px;\n",
       "    }\n",
       "\n",
       "    [theme=dark] .colab-df-convert {\n",
       "      background-color: #3B4455;\n",
       "      fill: #D2E3FC;\n",
       "    }\n",
       "\n",
       "    [theme=dark] .colab-df-convert:hover {\n",
       "      background-color: #434B5C;\n",
       "      box-shadow: 0px 1px 3px 1px rgba(0, 0, 0, 0.15);\n",
       "      filter: drop-shadow(0px 1px 2px rgba(0, 0, 0, 0.3));\n",
       "      fill: #FFFFFF;\n",
       "    }\n",
       "  </style>\n",
       "\n",
       "    <script>\n",
       "      const buttonEl =\n",
       "        document.querySelector('#df-37e1a708-6cd8-4ce9-b176-120f8e38f319 button.colab-df-convert');\n",
       "      buttonEl.style.display =\n",
       "        google.colab.kernel.accessAllowed ? 'block' : 'none';\n",
       "\n",
       "      async function convertToInteractive(key) {\n",
       "        const element = document.querySelector('#df-37e1a708-6cd8-4ce9-b176-120f8e38f319');\n",
       "        const dataTable =\n",
       "          await google.colab.kernel.invokeFunction('convertToInteractive',\n",
       "                                                    [key], {});\n",
       "        if (!dataTable) return;\n",
       "\n",
       "        const docLinkHtml = 'Like what you see? Visit the ' +\n",
       "          '<a target=\"_blank\" href=https://colab.research.google.com/notebooks/data_table.ipynb>data table notebook</a>'\n",
       "          + ' to learn more about interactive tables.';\n",
       "        element.innerHTML = '';\n",
       "        dataTable['output_type'] = 'display_data';\n",
       "        await google.colab.output.renderOutput(dataTable, element);\n",
       "        const docLink = document.createElement('div');\n",
       "        docLink.innerHTML = docLinkHtml;\n",
       "        element.appendChild(docLink);\n",
       "      }\n",
       "    </script>\n",
       "  </div>\n",
       "\n",
       "\n",
       "    <div id=\"df-c38e578b-9ac8-436b-9f19-a1f110f07547\">\n",
       "      <button class=\"colab-df-quickchart\" onclick=\"quickchart('df-c38e578b-9ac8-436b-9f19-a1f110f07547')\"\n",
       "                title=\"Suggest charts\"\n",
       "                style=\"display:none;\">\n",
       "\n",
       "<svg xmlns=\"http://www.w3.org/2000/svg\" height=\"24px\"viewBox=\"0 0 24 24\"\n",
       "     width=\"24px\">\n",
       "    <g>\n",
       "        <path d=\"M19 3H5c-1.1 0-2 .9-2 2v14c0 1.1.9 2 2 2h14c1.1 0 2-.9 2-2V5c0-1.1-.9-2-2-2zM9 17H7v-7h2v7zm4 0h-2V7h2v10zm4 0h-2v-4h2v4z\"/>\n",
       "    </g>\n",
       "</svg>\n",
       "      </button>\n",
       "\n",
       "<style>\n",
       "  .colab-df-quickchart {\n",
       "      --bg-color: #E8F0FE;\n",
       "      --fill-color: #1967D2;\n",
       "      --hover-bg-color: #E2EBFA;\n",
       "      --hover-fill-color: #174EA6;\n",
       "      --disabled-fill-color: #AAA;\n",
       "      --disabled-bg-color: #DDD;\n",
       "  }\n",
       "\n",
       "  [theme=dark] .colab-df-quickchart {\n",
       "      --bg-color: #3B4455;\n",
       "      --fill-color: #D2E3FC;\n",
       "      --hover-bg-color: #434B5C;\n",
       "      --hover-fill-color: #FFFFFF;\n",
       "      --disabled-bg-color: #3B4455;\n",
       "      --disabled-fill-color: #666;\n",
       "  }\n",
       "\n",
       "  .colab-df-quickchart {\n",
       "    background-color: var(--bg-color);\n",
       "    border: none;\n",
       "    border-radius: 50%;\n",
       "    cursor: pointer;\n",
       "    display: none;\n",
       "    fill: var(--fill-color);\n",
       "    height: 32px;\n",
       "    padding: 0;\n",
       "    width: 32px;\n",
       "  }\n",
       "\n",
       "  .colab-df-quickchart:hover {\n",
       "    background-color: var(--hover-bg-color);\n",
       "    box-shadow: 0 1px 2px rgba(60, 64, 67, 0.3), 0 1px 3px 1px rgba(60, 64, 67, 0.15);\n",
       "    fill: var(--button-hover-fill-color);\n",
       "  }\n",
       "\n",
       "  .colab-df-quickchart-complete:disabled,\n",
       "  .colab-df-quickchart-complete:disabled:hover {\n",
       "    background-color: var(--disabled-bg-color);\n",
       "    fill: var(--disabled-fill-color);\n",
       "    box-shadow: none;\n",
       "  }\n",
       "\n",
       "  .colab-df-spinner {\n",
       "    border: 2px solid var(--fill-color);\n",
       "    border-color: transparent;\n",
       "    border-bottom-color: var(--fill-color);\n",
       "    animation:\n",
       "      spin 1s steps(1) infinite;\n",
       "  }\n",
       "\n",
       "  @keyframes spin {\n",
       "    0% {\n",
       "      border-color: transparent;\n",
       "      border-bottom-color: var(--fill-color);\n",
       "      border-left-color: var(--fill-color);\n",
       "    }\n",
       "    20% {\n",
       "      border-color: transparent;\n",
       "      border-left-color: var(--fill-color);\n",
       "      border-top-color: var(--fill-color);\n",
       "    }\n",
       "    30% {\n",
       "      border-color: transparent;\n",
       "      border-left-color: var(--fill-color);\n",
       "      border-top-color: var(--fill-color);\n",
       "      border-right-color: var(--fill-color);\n",
       "    }\n",
       "    40% {\n",
       "      border-color: transparent;\n",
       "      border-right-color: var(--fill-color);\n",
       "      border-top-color: var(--fill-color);\n",
       "    }\n",
       "    60% {\n",
       "      border-color: transparent;\n",
       "      border-right-color: var(--fill-color);\n",
       "    }\n",
       "    80% {\n",
       "      border-color: transparent;\n",
       "      border-right-color: var(--fill-color);\n",
       "      border-bottom-color: var(--fill-color);\n",
       "    }\n",
       "    90% {\n",
       "      border-color: transparent;\n",
       "      border-bottom-color: var(--fill-color);\n",
       "    }\n",
       "  }\n",
       "</style>\n",
       "\n",
       "      <script>\n",
       "        async function quickchart(key) {\n",
       "          const quickchartButtonEl =\n",
       "            document.querySelector('#' + key + ' button');\n",
       "          quickchartButtonEl.disabled = true;  // To prevent multiple clicks.\n",
       "          quickchartButtonEl.classList.add('colab-df-spinner');\n",
       "          try {\n",
       "            const charts = await google.colab.kernel.invokeFunction(\n",
       "                'suggestCharts', [key], {});\n",
       "          } catch (error) {\n",
       "            console.error('Error during call to suggestCharts:', error);\n",
       "          }\n",
       "          quickchartButtonEl.classList.remove('colab-df-spinner');\n",
       "          quickchartButtonEl.classList.add('colab-df-quickchart-complete');\n",
       "        }\n",
       "        (() => {\n",
       "          let quickchartButtonEl =\n",
       "            document.querySelector('#df-c38e578b-9ac8-436b-9f19-a1f110f07547 button');\n",
       "          quickchartButtonEl.style.display =\n",
       "            google.colab.kernel.accessAllowed ? 'block' : 'none';\n",
       "        })();\n",
       "      </script>\n",
       "    </div>\n",
       "\n",
       "  <div id=\"id_a33a4ae7-f86c-4aa3-9812-1f7c63fb782d\">\n",
       "    <style>\n",
       "      .colab-df-generate {\n",
       "        background-color: #E8F0FE;\n",
       "        border: none;\n",
       "        border-radius: 50%;\n",
       "        cursor: pointer;\n",
       "        display: none;\n",
       "        fill: #1967D2;\n",
       "        height: 32px;\n",
       "        padding: 0 0 0 0;\n",
       "        width: 32px;\n",
       "      }\n",
       "\n",
       "      .colab-df-generate:hover {\n",
       "        background-color: #E2EBFA;\n",
       "        box-shadow: 0px 1px 2px rgba(60, 64, 67, 0.3), 0px 1px 3px 1px rgba(60, 64, 67, 0.15);\n",
       "        fill: #174EA6;\n",
       "      }\n",
       "\n",
       "      [theme=dark] .colab-df-generate {\n",
       "        background-color: #3B4455;\n",
       "        fill: #D2E3FC;\n",
       "      }\n",
       "\n",
       "      [theme=dark] .colab-df-generate:hover {\n",
       "        background-color: #434B5C;\n",
       "        box-shadow: 0px 1px 3px 1px rgba(0, 0, 0, 0.15);\n",
       "        filter: drop-shadow(0px 1px 2px rgba(0, 0, 0, 0.3));\n",
       "        fill: #FFFFFF;\n",
       "      }\n",
       "    </style>\n",
       "    <button class=\"colab-df-generate\" onclick=\"generateWithVariable('data')\"\n",
       "            title=\"Generate code using this dataframe.\"\n",
       "            style=\"display:none;\">\n",
       "\n",
       "  <svg xmlns=\"http://www.w3.org/2000/svg\" height=\"24px\"viewBox=\"0 0 24 24\"\n",
       "       width=\"24px\">\n",
       "    <path d=\"M7,19H8.4L18.45,9,17,7.55,7,17.6ZM5,21V16.75L18.45,3.32a2,2,0,0,1,2.83,0l1.4,1.43a1.91,1.91,0,0,1,.58,1.4,1.91,1.91,0,0,1-.58,1.4L9.25,21ZM18.45,9,17,7.55Zm-12,3A5.31,5.31,0,0,0,4.9,8.1,5.31,5.31,0,0,0,1,6.5,5.31,5.31,0,0,0,4.9,4.9,5.31,5.31,0,0,0,6.5,1,5.31,5.31,0,0,0,8.1,4.9,5.31,5.31,0,0,0,12,6.5,5.46,5.46,0,0,0,6.5,12Z\"/>\n",
       "  </svg>\n",
       "    </button>\n",
       "    <script>\n",
       "      (() => {\n",
       "      const buttonEl =\n",
       "        document.querySelector('#id_a33a4ae7-f86c-4aa3-9812-1f7c63fb782d button.colab-df-generate');\n",
       "      buttonEl.style.display =\n",
       "        google.colab.kernel.accessAllowed ? 'block' : 'none';\n",
       "\n",
       "      buttonEl.onclick = () => {\n",
       "        google.colab.notebook.generateWithVariable('data');\n",
       "      }\n",
       "      })();\n",
       "    </script>\n",
       "  </div>\n",
       "\n",
       "    </div>\n",
       "  </div>\n"
      ],
      "text/plain": [
       "                 qtype                                           Question  \\\n",
       "0       susceptibility  Who is at risk for Lymphocytic Choriomeningiti...   \n",
       "1             symptoms  What are the symptoms of Lymphocytic Choriomen...   \n",
       "2       susceptibility  Who is at risk for Lymphocytic Choriomeningiti...   \n",
       "3      exams and tests  How to diagnose Lymphocytic Choriomeningitis (...   \n",
       "4            treatment  What are the treatments for Lymphocytic Chorio...   \n",
       "...                ...                                                ...   \n",
       "16402         symptoms  What are the symptoms of Familial visceral myo...   \n",
       "16403      information              What is (are) Pseudopelade of Brocq ?   \n",
       "16404         symptoms   What are the symptoms of Pseudopelade of Brocq ?   \n",
       "16405        treatment  What are the treatments for Pseudopelade of Br...   \n",
       "16406      information  What is (are) Desmoplastic small round cell tu...   \n",
       "\n",
       "                                                  Answer  \n",
       "0      LCMV infections can occur after exposure to fr...  \n",
       "1      LCMV is most commonly recognized as causing ne...  \n",
       "2      Individuals of all ages who come into contact ...  \n",
       "3      During the first phase of the disease, the mos...  \n",
       "4      Aseptic meningitis, encephalitis, or meningoen...  \n",
       "...                                                  ...  \n",
       "16402  What are the signs and symptoms of Familial vi...  \n",
       "16403  Pseudopelade of Brocq (PBB) is a slowly progre...  \n",
       "16404  What are the signs and symptoms of Pseudopelad...  \n",
       "16405  Is there treatment or a cure for pseudopelade ...  \n",
       "16406  Desmoplastic small round cell tumors (DSRCT), ...  \n",
       "\n",
       "[16407 rows x 3 columns]"
      ]
     },
     "execution_count": 5,
     "metadata": {},
     "output_type": "execute_result"
    }
   ],
   "source": [
    "data = pd.DataFrame(data)\n",
    "data"
   ]
  },
  {
   "cell_type": "code",
   "execution_count": 6,
   "metadata": {
    "execution": {
     "iopub.execute_input": "2024-02-29T17:35:25.528374Z",
     "iopub.status.busy": "2024-02-29T17:35:25.527688Z",
     "iopub.status.idle": "2024-02-29T17:35:25.709895Z",
     "shell.execute_reply": "2024-02-29T17:35:25.709127Z",
     "shell.execute_reply.started": "2024-02-29T17:35:25.528341Z"
    },
    "id": "DZf0zCI29TD1"
   },
   "outputs": [],
   "source": [
    "MAX_ROWS = 15000\n",
    "DOCUMENT=\"Answer\"\n",
    "TOPIC=\"qtype\""
   ]
  },
  {
   "cell_type": "markdown",
   "metadata": {
    "id": "hmor-i1j9TD1"
   },
   "source": [
    "ChromaDB requires that the data has a unique identifier. We can make it with this statement, which will create a new column called **Id**.\n"
   ]
  },
  {
   "cell_type": "code",
   "execution_count": 7,
   "metadata": {
    "execution": {
     "iopub.execute_input": "2024-02-29T17:35:29.184342Z",
     "iopub.status.busy": "2024-02-29T17:35:29.183979Z",
     "iopub.status.idle": "2024-02-29T17:35:29.189229Z",
     "shell.execute_reply": "2024-02-29T17:35:29.1881Z",
     "shell.execute_reply.started": "2024-02-29T17:35:29.184313Z"
    },
    "id": "Mkoj9IrZ9TD1"
   },
   "outputs": [],
   "source": [
    "subset_data = data.head(MAX_ROWS) #Because it is just a sample we select a small portion of News."
   ]
  },
  {
   "cell_type": "code",
   "execution_count": 8,
   "metadata": {
    "colab": {
     "base_uri": "https://localhost:8080/"
    },
    "id": "dbchynDMZB8P",
    "outputId": "783f521e-40ce-4116-96bd-4c2049e11478"
   },
   "outputs": [
    {
     "name": "stdout",
     "output_type": "stream",
     "text": [
      "Requirement already satisfied: numpy==1.26.4 in /usr/local/lib/python3.11/dist-packages (1.26.4)\n"
     ]
    }
   ],
   "source": [
    "!pip install numpy==1.26.4"
   ]
  },
  {
   "cell_type": "markdown",
   "metadata": {
    "id": "rZHg_Qh69TD1"
   },
   "source": [
    "\n",
    "I'm going to use ChromaDB, the most popular OpenSource vector Database.\n",
    "\n",
    "First we need to import ChromaDB, and after that import the **Settings** class from **chromadb.config** module. This class allows us to change the setting for the ChromaDB system, and customize its behavior."
   ]
  },
  {
   "cell_type": "code",
   "execution_count": 9,
   "metadata": {
    "execution": {
     "iopub.execute_input": "2024-02-29T17:35:31.849551Z",
     "iopub.status.busy": "2024-02-29T17:35:31.849199Z",
     "iopub.status.idle": "2024-02-29T17:35:32.31736Z",
     "shell.execute_reply": "2024-02-29T17:35:32.316617Z",
     "shell.execute_reply.started": "2024-02-29T17:35:31.849525Z"
    },
    "id": "npJhuZQw9TD1"
   },
   "outputs": [],
   "source": [
    "import chromadb\n",
    "from chromadb.config import Settings\n",
    "import sentence_transformers\n",
    "from sentence_transformers import SentenceTransformer"
   ]
  },
  {
   "cell_type": "code",
   "execution_count": 10,
   "metadata": {
    "execution": {
     "iopub.execute_input": "2024-02-29T17:35:34.410646Z",
     "iopub.status.busy": "2024-02-29T17:35:34.410268Z",
     "iopub.status.idle": "2024-02-29T17:35:34.872817Z",
     "shell.execute_reply": "2024-02-29T17:35:34.872039Z",
     "shell.execute_reply.started": "2024-02-29T17:35:34.410614Z"
    },
    "id": "9yK6y0hm9TD1"
   },
   "outputs": [],
   "source": [
    "chroma_client = chromadb.PersistentClient(path=\"/path/to/persist/directory\")  #directory to persist chromaDB"
   ]
  },
  {
   "cell_type": "code",
   "execution_count": 11,
   "metadata": {
    "execution": {
     "iopub.execute_input": "2024-02-29T17:35:36.116012Z",
     "iopub.status.busy": "2024-02-29T17:35:36.1156Z",
     "iopub.status.idle": "2024-02-29T17:35:36.16922Z",
     "shell.execute_reply": "2024-02-29T17:35:36.168504Z",
     "shell.execute_reply.started": "2024-02-29T17:35:36.115977Z"
    },
    "id": "kRCsunE19TD1"
   },
   "outputs": [],
   "source": [
    "collection_name = \"news_collection\"\n",
    "if len(chroma_client.list_collections()) > 0 and collection_name in [chroma_client.list_collections()[0].name]:\n",
    "        chroma_client.delete_collection(name=collection_name)\n",
    "\n",
    "collection = chroma_client.create_collection(name=collection_name)\n"
   ]
  },
  {
   "cell_type": "markdown",
   "metadata": {
    "id": "94kcpfXdtEeV"
   },
   "source": [
    "The data must be added to the collection with the add function. At least three parts must be specified:\n",
    "\n",
    "**Documents** → full text of each news item (stored in a specific column of the dataset)\n",
    "\n",
    "**metadatas** → Meta information, such as the title or category of the news\n",
    "\n",
    "**ids** → a unique identifier for each data row\n",
    "\n",
    "**embedding**:To send and use information in Chroma DB, they must be captured as images"
   ]
  },
  {
   "cell_type": "code",
   "execution_count": 12,
   "metadata": {
    "colab": {
     "base_uri": "https://localhost:8080/",
     "height": 493,
     "referenced_widgets": [
      "ac9abb9defc94fd3a800f4de76a27059",
      "9fb7a251738143ca94025a63004dbb48",
      "3c9df86570a14577b6042a95973317be",
      "e08fdd0de7a24982b76908e21bd1262f",
      "3b1595ba55c448f7a88c9aff4116f684",
      "6c12d776c90c45f984c3e7d9e092063c",
      "ddcdadf67df74776908f039da537340b",
      "3c9a3bbd288942d99de139e120d543ee",
      "ae5537c2780945aa8e02a42571da1e21",
      "cea72a5b85f340788e59b16aae16ac38",
      "58ed047656484b238e4a7ff14638970d",
      "6ec00b5223b14235877a91b7a8a7bb27",
      "f9e9dd1c81804fadb63f945f2787e521",
      "ed042237b5654e3087b9b133894a5321",
      "9903077b565f40e68401a07e8908a79b",
      "24be621d4795430095e37181568aec5b",
      "52b0dcf0303541ca807e9e0157b9bc0b",
      "7d9fe1cf3e8c49d7821c2297a164f74b",
      "bb2a307bb0ab47f3a797a903bb95bc82",
      "d2a7fe9d9c68401d835201aa0bb4d624",
      "1a1d72094def42fba39fce19f32e04d4",
      "42d5c20ca7c54ac7821d2487aceaa987",
      "4d732257d9f1435282911555c67d6ee8",
      "1cb0850625dc4c01b5eabfe0d053e23e",
      "37541371e3694773a5c8970b8758c24f",
      "eb1e08ec2bbd405ab888622a60cd5f11",
      "893adcc059e2463e8ec6995eb39f24f6",
      "d2aecc5d42ca41bdbcc35d8f968dbc03",
      "59a390949ac842b4b88871fcc8bf7f3c",
      "ce1bf666f2fb497eb11a2a291eb88c85",
      "6fe98f620a554dc5b1135766590e384b",
      "e409ceece61a425a9ae959af6b0bd1cd",
      "e1e6d4468d20451ea1988c77cd40ee27",
      "916a66c7f6714d0ea55db1a11ce68462",
      "30582fa82f714675869d16f62b1cc27f",
      "37d1cf3241e04edaacd9054b35c2e7c2",
      "217afa74dc1d4d08a6884084831f0dd8",
      "eb4feeb38fcf4acd9a9d884ea42b3c6e",
      "9ed7c93b0995484caceccf1e3fe653c7",
      "e71d3dd534bf4a81bb455946a51ce38c",
      "c2dc21d7e20f471d941981fe4940cdf3",
      "2100116259684a55bca3921f3627852c",
      "e9e0b6c003e745f4a8e2784533f3dcbf",
      "d1f85f378880418ca9789fcb114a06ac",
      "f6a8ac4097514330b934dc02992d9843",
      "2489c1992a334790b6b36c3dcc0cb40f",
      "cde0b2f681ee4d11bdfd094a8e796c87",
      "9be383c813a546f7a04058e159c25ba4",
      "e0598b80a6c5436c92106ba3f0c701c5",
      "5aec0269811a4c7e81ea5aac71f2f4e0",
      "4938f36f2a83477291cdaa6e9c9a4f09",
      "3cc6926f8e774b5d8d29dc352e40e796",
      "006a96c9b612425ca9627d254df7937e",
      "9d3dbcf3dd04417aa11246b12403c195",
      "9cb4803602754ddcb5569c47a4341399",
      "c06f1c5dae9b46089737132c3d0cac85",
      "88381ab3a1364c17a0c583f95059781b",
      "1115e964b7a84df8bb115cfc0ceb54aa",
      "87609bf661d94bc49874e1905648f36b",
      "e0c8f6ab239c4033a191290d3f00b09e",
      "7fead6d78c4e46d19906b995b86a42ec",
      "f6202efc55ac4d099f45e4cbad995462",
      "eba9443408a549fcaa2be80175129d8f",
      "639c88a0f3a34baf8bca2feb244b49b4",
      "2da2cab9d789447982bde773dfdbe1a5",
      "42c02db7441a403db72f518c78d36e1c",
      "579b1c5485af451baafdb63c036dc807",
      "99a4169683bb40f684f6919aeb630c0c",
      "8251658ee28449f484deb58768fb181d",
      "ddf914ae83dd4594b967d8320decc282",
      "ea5834b0579c412695ed928edcb915cd",
      "e3d6b272a7994c7c828fc93d8858b446",
      "0cbe551f9bc04b059076dd2955fd5068",
      "f13fcb77889c467d86c91151e7ccd27e",
      "3140337fbe0d4912a6c0bd8708c75e38",
      "1a1de1c260584811bc1d5f2aad3dfc86",
      "94c7c23173c9499c83cc6f587e1c9170",
      "1ca7b583d098423397abf6e772f992f3",
      "64ad5a0c53c241438d44c82b4bc70fe6",
      "3c5ec8d7604c4eee9942791b6c20e347",
      "ce4f4de8b3a74f89924cc17a8a6c3f4c",
      "647594fd9df74bd0a061143212198d27",
      "1f91fb6a1e17436a961ba2a240369b65",
      "c073da3ab0c74d3dab0527587e3925e8",
      "06f9ebe43151419eb96ad720632aea6c",
      "2eec3e0d6e6845a6bbd0d66885f523ee",
      "24c2e3ca461e433a88d95dc6beab6339",
      "1020a5aa2b354bacbf60faa9d5b0468b",
      "7d57d36bcbf74ec892611e85f4605cf1",
      "d6591d0802504359a885f8112eef719a",
      "8ef984776c6f440f8c3f75214b76e670",
      "bf7b1998421a4019bf9bf38819cff2fd",
      "55a010d003164036b12613da53286fd3",
      "701a6de0e7704b9d834d0da50869e71d",
      "84b5eefb57854a86aa6c53dc4ff1407f",
      "389d9b75b32845b0ad847414e4c44ee9",
      "1ff2c7f4a7e94941bc23c211e24b863b",
      "869e505c7e864608aa647c36b0563983",
      "5abab96eba7045eb9dd8768fdea009f6",
      "c9ccabbc9046403e9926d0380ac4f611",
      "d75935be0a37417d90d7649e28105334",
      "31a01f9300f34ed4be4f90bca5428626",
      "4985d3b65c9e4a998ac9c6e97457dc71",
      "4f7cafbbf78647569110771122676e05",
      "34af424b711b45479f661aae03429dc5",
      "e61e03deabf64f9e98dc1446d21c6ff9",
      "8f2360b299794a16a2f9fbcdcc7d66bc",
      "16f653d43fc34ccdb65058352cebeea3",
      "ba063afb746b4dc79639a01e780f86d4",
      "30f368a684e84a688096f3ca3ee61e97",
      "20a8036e2b22407bba8aa9b8eef1e183",
      "b7fdbe5046c54dd7add0ee8de9db9898",
      "a6f65685d6d84ec09bd546f3e706eea4",
      "05fd974ab44642c0b36173b1244d4da2",
      "573d8ea684114cd59a3862f6415c86cc",
      "12ac9bcc60274969984f2a14df866e3e",
      "cb77d2434a74465e9bb0166faa6ade1b",
      "ab5639c652f043b893184a01bc386986",
      "9749c9d1c30440b388b558dce8471f1a",
      "919898b62d7649f4afe4a4f9f7e16872",
      "5c70cf207a8544beb2ffb865a980420d"
     ]
    },
    "execution": {
     "iopub.execute_input": "2024-02-29T17:35:38.051601Z",
     "iopub.status.busy": "2024-02-29T17:35:38.051179Z",
     "iopub.status.idle": "2024-02-29T17:36:38.612836Z",
     "shell.execute_reply": "2024-02-29T17:36:38.611814Z",
     "shell.execute_reply.started": "2024-02-29T17:35:38.051569Z"
    },
    "id": "4dDoqJE79TD2",
    "outputId": "62d4efc1-ce0b-46a3-ddad-e545d67b55b8"
   },
   "outputs": [
    {
     "data": {
      "application/vnd.jupyter.widget-view+json": {
       "model_id": "ac9abb9defc94fd3a800f4de76a27059",
       "version_major": 2,
       "version_minor": 0
      },
      "text/plain": [
       "modules.json:   0%|          | 0.00/349 [00:00<?, ?B/s]"
      ]
     },
     "metadata": {},
     "output_type": "display_data"
    },
    {
     "data": {
      "application/vnd.jupyter.widget-view+json": {
       "model_id": "6ec00b5223b14235877a91b7a8a7bb27",
       "version_major": 2,
       "version_minor": 0
      },
      "text/plain": [
       "config_sentence_transformers.json:   0%|          | 0.00/116 [00:00<?, ?B/s]"
      ]
     },
     "metadata": {},
     "output_type": "display_data"
    },
    {
     "data": {
      "application/vnd.jupyter.widget-view+json": {
       "model_id": "4d732257d9f1435282911555c67d6ee8",
       "version_major": 2,
       "version_minor": 0
      },
      "text/plain": [
       "README.md:   0%|          | 0.00/10.5k [00:00<?, ?B/s]"
      ]
     },
     "metadata": {},
     "output_type": "display_data"
    },
    {
     "data": {
      "application/vnd.jupyter.widget-view+json": {
       "model_id": "916a66c7f6714d0ea55db1a11ce68462",
       "version_major": 2,
       "version_minor": 0
      },
      "text/plain": [
       "sentence_bert_config.json:   0%|          | 0.00/53.0 [00:00<?, ?B/s]"
      ]
     },
     "metadata": {},
     "output_type": "display_data"
    },
    {
     "name": "stderr",
     "output_type": "stream",
     "text": [
      "/usr/local/lib/python3.11/dist-packages/huggingface_hub/file_download.py:896: FutureWarning: `resume_download` is deprecated and will be removed in version 1.0.0. Downloads always resume when possible. If you want to force a new download, use `force_download=True`.\n",
      "  warnings.warn(\n"
     ]
    },
    {
     "data": {
      "application/vnd.jupyter.widget-view+json": {
       "model_id": "f6a8ac4097514330b934dc02992d9843",
       "version_major": 2,
       "version_minor": 0
      },
      "text/plain": [
       "config.json:   0%|          | 0.00/612 [00:00<?, ?B/s]"
      ]
     },
     "metadata": {},
     "output_type": "display_data"
    },
    {
     "name": "stderr",
     "output_type": "stream",
     "text": [
      "/usr/local/lib/python3.11/dist-packages/huggingface_hub/file_download.py:896: FutureWarning: `resume_download` is deprecated and will be removed in version 1.0.0. Downloads always resume when possible. If you want to force a new download, use `force_download=True`.\n",
      "  warnings.warn(\n",
      "Xet Storage is enabled for this repo, but the 'hf_xet' package is not installed. Falling back to regular HTTP download. For better performance, install the package with: `pip install huggingface_hub[hf_xet]` or `pip install hf_xet`\n",
      "WARNING:huggingface_hub.file_download:Xet Storage is enabled for this repo, but the 'hf_xet' package is not installed. Falling back to regular HTTP download. For better performance, install the package with: `pip install huggingface_hub[hf_xet]` or `pip install hf_xet`\n"
     ]
    },
    {
     "data": {
      "application/vnd.jupyter.widget-view+json": {
       "model_id": "c06f1c5dae9b46089737132c3d0cac85",
       "version_major": 2,
       "version_minor": 0
      },
      "text/plain": [
       "model.safetensors:   0%|          | 0.00/90.9M [00:00<?, ?B/s]"
      ]
     },
     "metadata": {},
     "output_type": "display_data"
    },
    {
     "data": {
      "application/vnd.jupyter.widget-view+json": {
       "model_id": "579b1c5485af451baafdb63c036dc807",
       "version_major": 2,
       "version_minor": 0
      },
      "text/plain": [
       "tokenizer_config.json:   0%|          | 0.00/350 [00:00<?, ?B/s]"
      ]
     },
     "metadata": {},
     "output_type": "display_data"
    },
    {
     "data": {
      "application/vnd.jupyter.widget-view+json": {
       "model_id": "1ca7b583d098423397abf6e772f992f3",
       "version_major": 2,
       "version_minor": 0
      },
      "text/plain": [
       "vocab.txt:   0%|          | 0.00/232k [00:00<?, ?B/s]"
      ]
     },
     "metadata": {},
     "output_type": "display_data"
    },
    {
     "data": {
      "application/vnd.jupyter.widget-view+json": {
       "model_id": "7d57d36bcbf74ec892611e85f4605cf1",
       "version_major": 2,
       "version_minor": 0
      },
      "text/plain": [
       "tokenizer.json:   0%|          | 0.00/466k [00:00<?, ?B/s]"
      ]
     },
     "metadata": {},
     "output_type": "display_data"
    },
    {
     "data": {
      "application/vnd.jupyter.widget-view+json": {
       "model_id": "c9ccabbc9046403e9926d0380ac4f611",
       "version_major": 2,
       "version_minor": 0
      },
      "text/plain": [
       "special_tokens_map.json:   0%|          | 0.00/112 [00:00<?, ?B/s]"
      ]
     },
     "metadata": {},
     "output_type": "display_data"
    },
    {
     "data": {
      "application/vnd.jupyter.widget-view+json": {
       "model_id": "20a8036e2b22407bba8aa9b8eef1e183",
       "version_major": 2,
       "version_minor": 0
      },
      "text/plain": [
       "config.json:   0%|          | 0.00/190 [00:00<?, ?B/s]"
      ]
     },
     "metadata": {},
     "output_type": "display_data"
    }
   ],
   "source": [
    "embedding_model = SentenceTransformer(\"sentence-transformers/all-MiniLM-L6-v2\")     # choose a sentence transformer model\n",
    "embeddings = embedding_model.encode(subset_data[DOCUMENT].tolist(), convert_to_numpy=True)   # create embeddings\n",
    "\n",
    "# add embeddings to collection chromaDB\n",
    "collection.add(documents=subset_data[DOCUMENT].tolist(),\n",
    "    metadatas=[{TOPIC: topic} for topic in subset_data[TOPIC].tolist()],\n",
    "    ids=[f\"id{x}\" for x in range(MAX_ROWS)],\n",
    "    embeddings=embeddings.tolist(),)\n"
   ]
  },
  {
   "cell_type": "markdown",
   "metadata": {
    "id": "du6-iuUisRkM"
   },
   "source": [
    "Once we have the information inside the Database we can query It, and ask for data that matches our needs. The search is done inside the content of the document, and it dosn't look for the exact word, or phrase. The results will be based on the similarity between the search terms and the content of documents.\n",
    "\n",
    "The metadata is not used in the search, but they can be utilized for filtering or refining the results after the initial search.\n",
    "\n",
    "Let's define a function to query the ChromaDB Database."
   ]
  },
  {
   "cell_type": "code",
   "execution_count": 13,
   "metadata": {
    "execution": {
     "iopub.execute_input": "2024-02-29T17:36:38.616047Z",
     "iopub.status.busy": "2024-02-29T17:36:38.615302Z",
     "iopub.status.idle": "2024-02-29T17:36:38.620516Z",
     "shell.execute_reply": "2024-02-29T17:36:38.619561Z",
     "shell.execute_reply.started": "2024-02-29T17:36:38.616008Z"
    },
    "id": "UjdhZ4MJ9TD2"
   },
   "outputs": [],
   "source": [
    "def query_database(query_text, n_results=10):\n",
    "    results = collection.query(query_texts=query_text, n_results=n_results )\n",
    "    return results"
   ]
  },
  {
   "cell_type": "markdown",
   "metadata": {
    "id": "CL0Crl3x9TD2"
   },
   "source": [
    "## Creating the semantic cache system\n",
    "To implement the cache system, we will use Faiss, a library that allows storing embeddings in memory. It's quite similar to what Chroma does, but without its persistence.\n",
    "\n",
    "For this purpose, we will create a class called semantic_cache that will work with its own encoder and provide the necessary functions for the user to perform queries.\n",
    "\n",
    "In this class, we first query Faiss (the cache), and if the returned results are above the specified **threshold**, it will return the result from the cache. Otherwise, it will fetch the result from the Chroma database.\n",
    "\n",
    "The cache is stored in .json file."
   ]
  },
  {
   "cell_type": "code",
   "execution_count": 14,
   "metadata": {
    "execution": {
     "iopub.execute_input": "2024-02-29T17:36:38.621968Z",
     "iopub.status.busy": "2024-02-29T17:36:38.621655Z",
     "iopub.status.idle": "2024-02-29T17:36:51.313356Z",
     "shell.execute_reply": "2024-02-29T17:36:51.312232Z",
     "shell.execute_reply.started": "2024-02-29T17:36:38.621936Z"
    },
    "id": "6OzUbRUe9TD2"
   },
   "outputs": [],
   "source": [
    "!pip install -q faiss-cpu==1.8.0"
   ]
  },
  {
   "cell_type": "code",
   "execution_count": 15,
   "metadata": {
    "id": "0yGE4cTEp3QJ"
   },
   "outputs": [],
   "source": [
    "import faiss\n",
    "import time\n",
    "import json"
   ]
  },
  {
   "cell_type": "markdown",
   "metadata": {
    "id": "yi_riXHhcLy0"
   },
   "source": [
    "This function initializes the semantic cache.\n",
    "\n",
    "It employs the FlatLS index, which might not be the fastest but is ideal for small datasets. Depending on the characteristics of the data intended for the cache and the expected dataset size, another index such as HNSW or IVF could be utilized."
   ]
  },
  {
   "cell_type": "code",
   "execution_count": 16,
   "metadata": {
    "id": "9poNBxbPl7xE"
   },
   "outputs": [],
   "source": [
    "def init_cache():\n",
    "  index = faiss.IndexFlatL2(768)\n",
    "  if index.is_trained:\n",
    "            print('Index trained')\n",
    "\n",
    "  # Initialize Sentence Transformer model\n",
    "  encoder = SentenceTransformer('all-mpnet-base-v2')\n",
    "\n",
    "  return index, encoder"
   ]
  },
  {
   "cell_type": "markdown",
   "metadata": {
    "id": "_uZzX60odo1U"
   },
   "source": [
    "In the `retrieve_cache` function, the .json file is retrieved from disk in case there is a need to reuse the cache across sessions."
   ]
  },
  {
   "cell_type": "code",
   "execution_count": 17,
   "metadata": {
    "id": "FDJJ86TSp5CO"
   },
   "outputs": [],
   "source": [
    "def retrieve_cache(json_file):\n",
    "      try:\n",
    "          with open(json_file, 'r') as file:\n",
    "              cache = json.load(file)\n",
    "      except FileNotFoundError:\n",
    "          cache = {'questions': [], 'embeddings': [], 'answers': [], 'response_text': []}\n",
    "\n",
    "      return cache"
   ]
  },
  {
   "cell_type": "markdown",
   "metadata": {
    "id": "3uO-12UIdtSD"
   },
   "source": [
    "The `store_cache` function saves the file containing the cache data to disk."
   ]
  },
  {
   "cell_type": "code",
   "execution_count": 18,
   "metadata": {
    "id": "jx1CiKOcwKGn"
   },
   "outputs": [],
   "source": [
    "def store_cache(json_file, cache):\n",
    "  with open(json_file, 'w') as file:\n",
    "        json.dump(cache, file)"
   ]
  },
  {
   "cell_type": "markdown",
   "metadata": {
    "id": "t9AdmnhQd2E8"
   },
   "source": [
    "These functions will be used within the `SemanticCache` class, which includes the search function and its initialization function.\n",
    "\n",
    "Even though the `ask` function has a substantial amount of code, its purpose is quite straightforward. It looks in the cache for the closest question to the one just made by the user.\n",
    "\n",
    "Afterward, checks if it is within the specified threshold. If positive, it directly returns the response from the cache; otherwise, it calls the `query_database` function to retrieve the data from ChromaDB.\n",
    "\n",
    "I've used Euclidean distance instead of Cosine, which is widely employed in vector comparisons. This choice is based on the fact that Euclidean distance is the default metric used by Faiss. Although Cosine distance can also be calculated, doing so adds complexity that may not significantly contribute to the final result.\n"
   ]
  },
  {
   "cell_type": "code",
   "execution_count": 19,
   "metadata": {
    "execution": {
     "iopub.execute_input": "2024-02-29T17:36:51.31678Z",
     "iopub.status.busy": "2024-02-29T17:36:51.316449Z",
     "iopub.status.idle": "2024-02-29T17:36:55.197427Z",
     "shell.execute_reply": "2024-02-29T17:36:55.196616Z",
     "shell.execute_reply.started": "2024-02-29T17:36:51.316746Z"
    },
    "id": "t_HVtwww9TD2"
   },
   "outputs": [],
   "source": [
    "class semantic_cache:\n",
    "  def __init__(self, json_file=\"cache_file.json\", thresold=0.35):\n",
    "      # Initialize Faiss index with Euclidean distance\n",
    "      self.index, self.encoder = init_cache()\n",
    "\n",
    "      # Set Euclidean distance threshold\n",
    "      # a distance of 0 means identicals sentences\n",
    "      # We only return from cache sentences under this thresold\n",
    "      self.euclidean_threshold = thresold\n",
    "\n",
    "      self.json_file = json_file\n",
    "      self.cache = retrieve_cache(self.json_file)\n",
    "\n",
    "  def ask(self, question: str) -> str:\n",
    "      # Method to retrieve an answer from the cache or generate a new one\n",
    "      start_time = time.time()\n",
    "      try:\n",
    "          #First we obtain the embeddings corresponding to the user question\n",
    "          embedding = self.encoder.encode([question])\n",
    "\n",
    "          # Search for the nearest neighbor in the index\n",
    "          self.index.nprobe = 8\n",
    "          D, I = self.index.search(embedding, 1)\n",
    "\n",
    "          if D[0] >= 0:\n",
    "              if I[0][0] >= 0 and D[0][0] <= self.euclidean_threshold:\n",
    "                  row_id = int(I[0][0])\n",
    "\n",
    "                  print('Answer recovered from Cache. ')\n",
    "                  print(f'{D[0][0]:.3f} smaller than {self.euclidean_threshold}')\n",
    "                  print(f'Found cache in row: {row_id} with score {D[0][0]:.3f}')\n",
    "                  print(f'response_text: ' + self.cache['response_text'][row_id])\n",
    "\n",
    "                  end_time = time.time()\n",
    "                  elapsed_time = end_time - start_time\n",
    "                  print(f\"Time taken: {elapsed_time:.3f} seconds\")\n",
    "                  return self.cache['response_text'][row_id]\n",
    "\n",
    "          # Handle the case when there are not enough results\n",
    "          # or Euclidean distance is not met, asking to chromaDB.\n",
    "          answer  = query_database([question], 1)\n",
    "          response_text = answer['documents'][0][0]\n",
    "\n",
    "          self.cache['questions'].append(question)\n",
    "          self.cache['embeddings'].append(embedding[0].tolist())\n",
    "          self.cache['answers'].append(answer)\n",
    "          self.cache['response_text'].append(response_text)\n",
    "\n",
    "          print('Answer recovered from ChromaDB. ')\n",
    "          print(f'response_text: {response_text}')\n",
    "\n",
    "          self.index.add(embedding)\n",
    "          store_cache(self.json_file, self.cache)\n",
    "          end_time = time.time()\n",
    "          elapsed_time = end_time - start_time\n",
    "          print(f\"Time taken: {elapsed_time:.3f} seconds\")\n",
    "\n",
    "          return response_text\n",
    "      except Exception as e:\n",
    "          raise RuntimeError(f\"Error during 'ask' method: {e}\")"
   ]
  },
  {
   "cell_type": "markdown",
   "metadata": {
    "id": "UBWTqGM7i71N"
   },
   "source": [
    "### Testing the semantic_cache class."
   ]
  },
  {
   "cell_type": "code",
   "execution_count": 20,
   "metadata": {
    "colab": {
     "base_uri": "https://localhost:8080/",
     "height": 441,
     "referenced_widgets": [
      "d83222c6cf8643ea95eafa69067b39eb",
      "946174d53822476a8c458cda24860db5",
      "86afe4b9ce0e475db5b91b3436744ea1",
      "3ae283368ff74997b8079f185a582f89",
      "60f2a0c523194849b923fec4a85e3cd1",
      "9fd9897113b94be4923cb1ceeeb3f68f",
      "d106ce03a1374bf3b4af85ad5aebec3d",
      "5ea2dc5955f94cc7aa392330b7dc9323",
      "aef6d75988aa40a5bfee46d54840da2e",
      "087c563542a347328a828caa95fbc705",
      "36b196013ba5471d9cf8ab28154365d1",
      "5370841dbac74a0db5a98c1ec7bbf294",
      "2d6d9cecdb75440bb3df67eb152fc246",
      "52784c68939f4bf6ac092672416ec95a",
      "3c5a927d2aeb49998598a4015a22f87b",
      "2851eba18a134000b7d40ec1e1dd69a2",
      "b0a3c0638816455ba4beee6a84a3f5db",
      "5d3ad3c3514d4a7ab64df5966fe0c807",
      "dbe772d76e03485a9e6d7dfe4eb10e30",
      "6c6c428d65ad4ffcbbb6b4a358a1927d",
      "f09bf40534dc4dae9790d1bb75b00af8",
      "720926f4c1474256b9373babef0110ac",
      "05730a8544674c21a1e81a7f7bdcf23f",
      "48617468970f41e6ba3808f096cb4a8f",
      "b506016221d54f2fa52735732cb407de",
      "05c25817f5364afb91d469de9728e42a",
      "e2ba238277dd41669c5096f47c929eaa",
      "abd0680b6716433086971ae44b0aab68",
      "72985d4d92864f6ab88e69a225c7a27f",
      "15ae7ad711fa4d0aa1d88e9f8fb47398",
      "0e82d51ab8084aeca144e243375c95ed",
      "0ef8761e126c4de982351a744654f3d8",
      "c92c31ea9315412f9d1a7db831a7b729",
      "93ffd936782c4ecc9fd71af1b121f050",
      "6c585beb12524badb81566a129f52c47",
      "20876e8abb12437c9421451722935dab",
      "b120ea5ddb704044a3df5917c955a69d",
      "efcc9b6b707a40569efadb9f330a8bd9",
      "c914a29973a64e60bc292e706f6364d2",
      "8e1c7c72dff84733b9dbfb85d1887a0c",
      "5fda28b9edd14b4da80264092b3cc28b",
      "be7412b59437480ba76d3613b9b73c90",
      "3fc648de23064adf9db4db7dc90c0091",
      "8761e5dafa134874a94a26c86f2bfb74",
      "e54ae2a08c7749bda99024434ba836c6",
      "29ea225075f74ae782e20a1e79aec585",
      "a0145ee8dc5a4ee89957f9758fa579c1",
      "18796ca20c1645e4a358ca6bcf4485a1",
      "95fee5dff79846cfb6608f60ca21dc6d",
      "9bf880cbdf2d40fb84b69f122c89d5cf",
      "4f6a458c154c4b11b1c420adcc9c1410",
      "b71aea7b43604377a02da9e832e66ccb",
      "892d657a37b048c79bb5a6a6f11b30c7",
      "3ba1e8f6a9594cd1b96fc69443f6af12",
      "546032f7abdf4424a52a3327afe38466",
      "46df776e853a4b8dac5acc8555bbca3d",
      "477f56cc83644e95bf7f250fca35c580",
      "eb255a7edcc84290b505e1f558b62e4b",
      "cf129548d3ef45c49731cd088a169c3b",
      "1a1f892d301a4c76b3acae3f8d91c300",
      "ea6917a6e8da4aee9f46cda7c12e65b3",
      "3daa1994bec649c7a12543d1198e1503",
      "dc54ed0a4cd24964baaf3c8f7fa737a2",
      "05d9294af9e841c890f73c9fbc49fed1",
      "134a2239166847428666ced9e9335587",
      "277eaf6d35584a1a9216a00af5e64d8a",
      "08b97bb112da47318337bdfbd54783ba",
      "41cc6307e7904a8d97697a9d64b26870",
      "1ef3c2aa655947869288392e540aa963",
      "faf1a31bd66e46f2b28a4dfbbe3c5550",
      "70072c54380e49c8987e283151de740f",
      "2a31564d09aa407bb22e74311dda3840",
      "1f75a4febbad40dcb8d81e4aed4f03e1",
      "dcb9519af92543a6be58db923ab2ccba",
      "46daccae0c26474ca483549c38256964",
      "f42b101d0afb44efba3bc9ae37b8eb16",
      "8d2b63895016429f8a76407e1e8c7dc1",
      "31da67b1da514d0897cb120c26792f41",
      "9d7f40e7f1654c379696f10735f67ef6",
      "d4e2053ef1ba4a4e8abf23fb03b47ffb",
      "d7a55f9e00614681a5f382fc01de17ba",
      "a79f51384a7645f4968e89e7f9080fb1",
      "cc50a8a0a6164b9292e05627cffd9808",
      "c4318aaa70d14cb4afbe207a184a95c2",
      "0e9f6ea2d10442e388560b6a387f1bba",
      "d057aaf946d849fa9dc56090f7b1475f",
      "3c9cbb7d07f04b509e8f0ee679943786",
      "8fb1b64783f548c88ec541d3bb46e567",
      "64cd5a52c07148aaa3810bb1d2dff3d4",
      "a09eedb4ee514ee792cab2939db3241a",
      "f5a0150b3585476e92b27c2dd6c21214",
      "837eb084aa0a4f44a73ab05edfcff981",
      "82aa50e0634341ff9c14e396d6c26e65",
      "6e83c598f80043cdbb424580b747ecf8",
      "0029a685f49a4a6eaeb06dd5b4fbcf07",
      "55fe6dabefc84c4db68ecfff1c062a59",
      "fe09a5ed48bd4d8b8f0374b354dee283",
      "584dc40bbaf74d39a423a7a4d4b9f428",
      "7008491f211c419b9d5ef429a783e0cb",
      "1683c61477604299a2010976cb41ee40",
      "d88990a7dab94a20ab664dacfec4390e",
      "cb285fb7129a4324a6dc09b23c06ba6c",
      "5b77cc8295af436abf029c8b52dff79d",
      "f9487a86d9c04a34a5028281a0a96466",
      "e1c8bb5bc349463ab60d5ee0a5233352",
      "1ddd491b61a0418fbd7dbd3175e171be",
      "1e13f0057e1846f39a9c49415313b193",
      "825915910f7e4c63869166695215da62",
      "491a7ae0b59a40feb1349d50323fd048",
      "a3134341fec3467b8a51e5b4b3b815d2",
      "f1fa37c920fe44658a4e59e6ca69f3ce",
      "78d95d30e10744c5845a2f8828b57494",
      "f8d6e3a555a9471bb8ff58214a78ffe1",
      "8087cc5e8e29473195fe2ffa52e0ff70",
      "a3cb7e76e6f04793aecce2be33238f40",
      "982718d91cc440618a22156a9025d4a7",
      "e71e456572214ffbac4777ecb3ea2dff",
      "d498e86073fa48838e805bc06c9f80ee",
      "70d8b8f499d04ee29033b11756a79f30",
      "bcb12f924e4e4556a772d68af9578c25",
      "87a708c348ad4399be343ef7d2e4a7c4"
     ]
    },
    "id": "JH8s8eUtCMIS",
    "outputId": "5b87204d-1e66-47cf-b53d-7cbe072c4650"
   },
   "outputs": [
    {
     "name": "stdout",
     "output_type": "stream",
     "text": [
      "Index trained\n"
     ]
    },
    {
     "data": {
      "application/vnd.jupyter.widget-view+json": {
       "model_id": "d83222c6cf8643ea95eafa69067b39eb",
       "version_major": 2,
       "version_minor": 0
      },
      "text/plain": [
       "modules.json:   0%|          | 0.00/349 [00:00<?, ?B/s]"
      ]
     },
     "metadata": {},
     "output_type": "display_data"
    },
    {
     "data": {
      "application/vnd.jupyter.widget-view+json": {
       "model_id": "5370841dbac74a0db5a98c1ec7bbf294",
       "version_major": 2,
       "version_minor": 0
      },
      "text/plain": [
       "config_sentence_transformers.json:   0%|          | 0.00/116 [00:00<?, ?B/s]"
      ]
     },
     "metadata": {},
     "output_type": "display_data"
    },
    {
     "data": {
      "application/vnd.jupyter.widget-view+json": {
       "model_id": "05730a8544674c21a1e81a7f7bdcf23f",
       "version_major": 2,
       "version_minor": 0
      },
      "text/plain": [
       "README.md:   0%|          | 0.00/10.4k [00:00<?, ?B/s]"
      ]
     },
     "metadata": {},
     "output_type": "display_data"
    },
    {
     "data": {
      "application/vnd.jupyter.widget-view+json": {
       "model_id": "93ffd936782c4ecc9fd71af1b121f050",
       "version_major": 2,
       "version_minor": 0
      },
      "text/plain": [
       "sentence_bert_config.json:   0%|          | 0.00/53.0 [00:00<?, ?B/s]"
      ]
     },
     "metadata": {},
     "output_type": "display_data"
    },
    {
     "data": {
      "application/vnd.jupyter.widget-view+json": {
       "model_id": "e54ae2a08c7749bda99024434ba836c6",
       "version_major": 2,
       "version_minor": 0
      },
      "text/plain": [
       "config.json:   0%|          | 0.00/571 [00:00<?, ?B/s]"
      ]
     },
     "metadata": {},
     "output_type": "display_data"
    },
    {
     "name": "stderr",
     "output_type": "stream",
     "text": [
      "Xet Storage is enabled for this repo, but the 'hf_xet' package is not installed. Falling back to regular HTTP download. For better performance, install the package with: `pip install huggingface_hub[hf_xet]` or `pip install hf_xet`\n",
      "WARNING:huggingface_hub.file_download:Xet Storage is enabled for this repo, but the 'hf_xet' package is not installed. Falling back to regular HTTP download. For better performance, install the package with: `pip install huggingface_hub[hf_xet]` or `pip install hf_xet`\n"
     ]
    },
    {
     "data": {
      "application/vnd.jupyter.widget-view+json": {
       "model_id": "46df776e853a4b8dac5acc8555bbca3d",
       "version_major": 2,
       "version_minor": 0
      },
      "text/plain": [
       "model.safetensors:   0%|          | 0.00/438M [00:00<?, ?B/s]"
      ]
     },
     "metadata": {},
     "output_type": "display_data"
    },
    {
     "data": {
      "application/vnd.jupyter.widget-view+json": {
       "model_id": "08b97bb112da47318337bdfbd54783ba",
       "version_major": 2,
       "version_minor": 0
      },
      "text/plain": [
       "tokenizer_config.json:   0%|          | 0.00/363 [00:00<?, ?B/s]"
      ]
     },
     "metadata": {},
     "output_type": "display_data"
    },
    {
     "data": {
      "application/vnd.jupyter.widget-view+json": {
       "model_id": "31da67b1da514d0897cb120c26792f41",
       "version_major": 2,
       "version_minor": 0
      },
      "text/plain": [
       "vocab.txt:   0%|          | 0.00/232k [00:00<?, ?B/s]"
      ]
     },
     "metadata": {},
     "output_type": "display_data"
    },
    {
     "data": {
      "application/vnd.jupyter.widget-view+json": {
       "model_id": "64cd5a52c07148aaa3810bb1d2dff3d4",
       "version_major": 2,
       "version_minor": 0
      },
      "text/plain": [
       "tokenizer.json:   0%|          | 0.00/466k [00:00<?, ?B/s]"
      ]
     },
     "metadata": {},
     "output_type": "display_data"
    },
    {
     "data": {
      "application/vnd.jupyter.widget-view+json": {
       "model_id": "1683c61477604299a2010976cb41ee40",
       "version_major": 2,
       "version_minor": 0
      },
      "text/plain": [
       "special_tokens_map.json:   0%|          | 0.00/239 [00:00<?, ?B/s]"
      ]
     },
     "metadata": {},
     "output_type": "display_data"
    },
    {
     "data": {
      "application/vnd.jupyter.widget-view+json": {
       "model_id": "f1fa37c920fe44658a4e59e6ca69f3ce",
       "version_major": 2,
       "version_minor": 0
      },
      "text/plain": [
       "config.json:   0%|          | 0.00/190 [00:00<?, ?B/s]"
      ]
     },
     "metadata": {},
     "output_type": "display_data"
    }
   ],
   "source": [
    "# Initialize the cache.\n",
    "cache = semantic_cache('4cache_file.json')"
   ]
  },
  {
   "cell_type": "code",
   "execution_count": 21,
   "metadata": {
    "colab": {
     "base_uri": "https://localhost:8080/"
    },
    "id": "mKqKLfDe_8bC",
    "outputId": "7729c4aa-9f71-419f-fdb5-145eafe61938"
   },
   "outputs": [
    {
     "name": "stderr",
     "output_type": "stream",
     "text": [
      "/root/.cache/chroma/onnx_models/all-MiniLM-L6-v2/onnx.tar.gz: 100%|██████████| 79.3M/79.3M [00:00<00:00, 94.8MiB/s]\n"
     ]
    },
    {
     "name": "stdout",
     "output_type": "stream",
     "text": [
      "Answer recovered from ChromaDB. \n",
      "response_text: Summary : Shots may hurt a little, but the diseases they can prevent are a lot worse. Some are even life-threatening. Immunization shots, or vaccinations, are essential. They protect against things like measles, mumps, rubella, hepatitis B, polio, tetanus, diphtheria, and pertussis (whooping cough). Immunizations are important for adults as well as children.    Your immune system helps your body fight germs by producing substances to combat them. Once it does, the immune system \"remembers\" the germ and can fight it again. Vaccines contain germs that have been killed or weakened. When given to a healthy person, the vaccine triggers the immune system to respond and thus build immunity.     Before vaccines, people became immune only by actually getting a disease and surviving it. Immunizations are an easier and less risky way to become immune.     NIH: National Institute of Allergy and Infectious Diseases\n",
      "Time taken: 2.609 seconds\n"
     ]
    }
   ],
   "source": [
    "results = cache.ask(\"How work a vaccine?\")"
   ]
  },
  {
   "cell_type": "markdown",
   "metadata": {
    "id": "dP7H6TypknLN"
   },
   "source": [
    "As expected, this response has been obtained from ChromaDB. The class then stores it in the cache.\n",
    "\n",
    "Now, if we send a second question that is quite different, the response should also be retrieved from ChromaDB. This is because the question stored previously is so dissimilar that it would surpass the specified threshold in terms of Euclidean distance."
   ]
  },
  {
   "cell_type": "code",
   "execution_count": 22,
   "metadata": {
    "colab": {
     "base_uri": "https://localhost:8080/"
    },
    "execution": {
     "iopub.execute_input": "2024-02-29T17:37:15.335593Z",
     "iopub.status.busy": "2024-02-29T17:37:15.335288Z",
     "iopub.status.idle": "2024-02-29T17:37:17.320691Z",
     "shell.execute_reply": "2024-02-29T17:37:17.319671Z",
     "shell.execute_reply.started": "2024-02-29T17:37:15.335566Z"
    },
    "id": "CvJykqVf9TD2",
    "outputId": "1abbcfdc-b8d7-45e4-cfcd-be8c1291e7d2"
   },
   "outputs": [
    {
     "name": "stdout",
     "output_type": "stream",
     "text": [
      "Answer recovered from ChromaDB. \n",
      "response_text: Familial periodic paralyses are a group of inherited neurological disorders caused by mutations in genes that regulate sodium and calcium channels in nerve cells. They are characterized by episodes in which the affected muscles become slack, weak, and unable to contract. Between attacks, the affected muscles usually work as normal.\n",
      "                \n",
      "The two most common types of periodic paralyses are: Hypokalemic periodic paralysis is characterized by a fall in potassium levels in the blood. In individuals with this mutation attacks often begin in adolescence and are triggered by strenuous exercise, high carbohydrate meals, or by injection of insulin, glucose, or epinephrine. Weakness may be mild and limited to certain muscle groups, or more severe and affect the arms and legs. Attacks may last for a few hours or persist for several days. Some patients may develop chronic muscle weakness later in life. Hyperkalemic periodic paralysis is characterized by a rise in potassium levels in the blood. Attacks often begin in infancy or early childhood and are precipitated by rest after exercise or by fasting. Attacks are usually shorter, more frequent, and less severe than the hypokalemic form. Muscle spasms are common.\n",
      "Time taken: 0.106 seconds\n"
     ]
    }
   ],
   "source": [
    "results = cache.ask(\"Explain briefly what is a Periodic Paralyses\")"
   ]
  },
  {
   "cell_type": "markdown",
   "metadata": {
    "id": "8aPWvU64lxOU"
   },
   "source": [
    "Perfect, the semantic cache system is behaving as expected.\n",
    "\n",
    "Let's proceed to test it with a question very similar to the one we just asked.\n",
    "\n",
    "In this case, the response should come directly from the cache without the need to access the ChromaDB database."
   ]
  },
  {
   "cell_type": "code",
   "execution_count": 23,
   "metadata": {
    "colab": {
     "base_uri": "https://localhost:8080/"
    },
    "execution": {
     "iopub.execute_input": "2024-02-29T17:37:17.328926Z",
     "iopub.status.busy": "2024-02-29T17:37:17.32865Z",
     "iopub.status.idle": "2024-02-29T17:37:17.463363Z",
     "shell.execute_reply": "2024-02-29T17:37:17.462397Z",
     "shell.execute_reply.started": "2024-02-29T17:37:17.328902Z"
    },
    "id": "9_5IcGB-9TD2",
    "outputId": "251bf6e7-68da-4ff3-ea4b-0e61edb30f08"
   },
   "outputs": [
    {
     "name": "stdout",
     "output_type": "stream",
     "text": [
      "Answer recovered from Cache. \n",
      "0.018 smaller than 0.35\n",
      "Found cache in row: 1 with score 0.018\n",
      "response_text: Familial periodic paralyses are a group of inherited neurological disorders caused by mutations in genes that regulate sodium and calcium channels in nerve cells. They are characterized by episodes in which the affected muscles become slack, weak, and unable to contract. Between attacks, the affected muscles usually work as normal.\n",
      "                \n",
      "The two most common types of periodic paralyses are: Hypokalemic periodic paralysis is characterized by a fall in potassium levels in the blood. In individuals with this mutation attacks often begin in adolescence and are triggered by strenuous exercise, high carbohydrate meals, or by injection of insulin, glucose, or epinephrine. Weakness may be mild and limited to certain muscle groups, or more severe and affect the arms and legs. Attacks may last for a few hours or persist for several days. Some patients may develop chronic muscle weakness later in life. Hyperkalemic periodic paralysis is characterized by a rise in potassium levels in the blood. Attacks often begin in infancy or early childhood and are precipitated by rest after exercise or by fasting. Attacks are usually shorter, more frequent, and less severe than the hypokalemic form. Muscle spasms are common.\n",
      "Time taken: 0.015 seconds\n"
     ]
    }
   ],
   "source": [
    "results = cache.ask(\"Briefly explain me what is a periodic paralyses\")"
   ]
  },
  {
   "cell_type": "markdown",
   "metadata": {
    "id": "M4H8RoXFqdwE"
   },
   "source": [
    "The two questions are so similar that their Euclidean distance is truly minimal, almost as if they were identical.\n",
    "\n",
    "Now, let's try another question, this time a bit more distinct, and observe how the system behaves."
   ]
  },
  {
   "cell_type": "code",
   "execution_count": 24,
   "metadata": {
    "colab": {
     "base_uri": "https://localhost:8080/"
    },
    "id": "ysj5P_MBCqju",
    "outputId": "fa4fbffe-e0ec-42bf-e823-ad88f4c5b1e1"
   },
   "outputs": [
    {
     "name": "stdout",
     "output_type": "stream",
     "text": [
      "Answer recovered from Cache. \n",
      "0.220 smaller than 0.35\n",
      "Found cache in row: 1 with score 0.220\n",
      "response_text: Familial periodic paralyses are a group of inherited neurological disorders caused by mutations in genes that regulate sodium and calcium channels in nerve cells. They are characterized by episodes in which the affected muscles become slack, weak, and unable to contract. Between attacks, the affected muscles usually work as normal.\n",
      "                \n",
      "The two most common types of periodic paralyses are: Hypokalemic periodic paralysis is characterized by a fall in potassium levels in the blood. In individuals with this mutation attacks often begin in adolescence and are triggered by strenuous exercise, high carbohydrate meals, or by injection of insulin, glucose, or epinephrine. Weakness may be mild and limited to certain muscle groups, or more severe and affect the arms and legs. Attacks may last for a few hours or persist for several days. Some patients may develop chronic muscle weakness later in life. Hyperkalemic periodic paralysis is characterized by a rise in potassium levels in the blood. Attacks often begin in infancy or early childhood and are precipitated by rest after exercise or by fasting. Attacks are usually shorter, more frequent, and less severe than the hypokalemic form. Muscle spasms are common.\n",
      "Time taken: 0.014 seconds\n"
     ]
    }
   ],
   "source": [
    "question_def = \"Write in 20 words what is a periodic paralyses\"\n",
    "results = cache.ask(question_def)"
   ]
  },
  {
   "cell_type": "markdown",
   "metadata": {
    "id": "MFzXsQwB9TD3"
   },
   "source": [
    "We observe that the Euclidean distance has increased, but it still remains within the specified threshold. Therefore, it continues to return the response directly from the cache."
   ]
  },
  {
   "cell_type": "markdown",
   "metadata": {
    "id": "Ot3wrq0p9TD3"
   },
   "source": [
    "\n",
    " # We use TRANSFORMERS for working with language models (LLMs).\n",
    "The three main tools used here are:\n",
    "\n",
    "1️⃣ AutoTokenizer → An automatic tokenizer that converts text into tokens suitable for the model.\n",
    "\n",
    "2️⃣ AutoModelForCausalLM → Language models based on Causal Language Modeling (like GPT) for text generation.\n",
    "\n",
    "3️⃣ pipeline → A simple interface for performing NLP tasks such as text generation or text classification.  "
   ]
  },
  {
   "cell_type": "code",
   "execution_count": 25,
   "metadata": {
    "execution": {
     "iopub.execute_input": "2024-02-29T17:40:44.15434Z",
     "iopub.status.busy": "2024-02-29T17:40:44.153914Z",
     "iopub.status.idle": "2024-02-29T17:40:44.160144Z",
     "shell.execute_reply": "2024-02-29T17:40:44.159154Z",
     "shell.execute_reply.started": "2024-02-29T17:40:44.154292Z"
    },
    "id": "pIDMTCnH9TD7"
   },
   "outputs": [],
   "source": [
    "from torch import cuda, torch\n",
    "device = f'cuda:{cuda.current_device()}' if cuda.is_available() else 'cpu'\n",
    "from transformers import AutoTokenizer, AutoModelForCausalLM"
   ]
  },
  {
   "cell_type": "code",
   "execution_count": 27,
   "metadata": {
    "colab": {
     "base_uri": "https://localhost:8080/",
     "height": 369,
     "referenced_widgets": [
      "2ae8b8c1ecb640b5a5371f2835d9122a",
      "8f62a07aa07641e3b72a88ee88ef6abd",
      "8a2b5e065cca4091952c2fdba904f1be",
      "cef56e40f87949628104dfab2b23c171",
      "936c186c08414d4d886262b44a3a9aab",
      "a4be307078664523b360056fd3163259",
      "01e8598f4b124f65bfa962ec6063740d",
      "4b0b20ca6b524690baddd8db330c5fab",
      "7e305ee7656c4a24ace539c841f14b6b",
      "a304c67edb30453b83ed53efcb461fec",
      "57b0cdacde4747d89d1ca77dfa13bb8c",
      "aed597024a3641ea9809d0086580c516",
      "3946b65396734ae695b495f8089a4eaf",
      "d8262ef1f5704964838b9371d6358cd9",
      "765422e1d8bb457d95623ed24eeb9cc4",
      "8bbd66c10aea4b33bad0d1760b2e3b86",
      "e83763ef9a534b51bd1b882e8d830d5f",
      "8c4f2d67132d4a2cab44639611cd7758",
      "e15982d2de634f2093bf5265ff6130ff",
      "cba543f2966a464db620bdd3f8c4fd36",
      "34781f1a3bb04e6a8458a47edb694fc8",
      "8ce414aa23f149caa1f65527397c06c2",
      "b6a42231d8f54199b5cd028a91542bed",
      "ac81ef34eeb24bd487c8e76cefce95e8",
      "fb06b3893b9e4cc8b933d2ae810bb3a1",
      "463fc32c1efc41af9f5a5fa11de27d5c",
      "5bd801bfff0f49858163591be62cfc9e",
      "0cf2dcc3064144279ca69d7fb0330607",
      "3f3d3a4d14d742cab6a096e3b8b2c1c0",
      "0b2434e8a886491da449737d3a1491a2",
      "524bc2c8197c47cd9f0ac5aa006e14a3",
      "478edd596099409fb6ca062add794bd2",
      "57601ca4e65340f3bc84a0fd3b6c3db0",
      "d9b3b5e2e6dd45bab118fc2276b452e5",
      "4f5ff893f2144fa884d6c48f58b50089",
      "db4b7b665b7d492e9357f7a1025d9188",
      "3e3c329f94944caa8aec18ae5e0618a4",
      "10206f64fef7451b893d10971bb8aa12",
      "c40381315d0f46ce9a6b9571cac88252",
      "7785fe437b9d4781ba1c6a09a4162b02",
      "ffe50063ffdf4a269c624a79f42256db",
      "f2c49dd3cf8c464fb5d1d24b3fe6da0a",
      "2032f7b7a0d243469f3e271f7eea2b19",
      "629816a5b4114eebb3ac7a1055385c22",
      "97d3bdccf9654f03ad72169c735d32da",
      "61be983d45f645019582ca2271747885",
      "8f575c5e50d34d73bffd292b1c208c5f",
      "fb39666ed8f9434a88798497f10134d3",
      "3c85b996f9a1499a80e9f35eaadfd2e2",
      "aa800b73c486429492f155537ee0cdde",
      "601ad2a166114374942e32dc4d7bc308",
      "14d7bca361264908913896696296fda9",
      "5472f3b1175946e28ffcee58bda1de91",
      "1f47d2de02fc4f63a0692c885784db31",
      "82edd42534684418a844af6e1a1cfb1e",
      "091c777150ee45eea7826e3d76fc25ff",
      "93fd0b4869eb4fd8855d0399fdf9bf55",
      "43871a481bfe4184b90801e416ad2501",
      "f77158902d894a1087d3087487c7bb54",
      "05262318be224d12962a506d7fdbdac7",
      "0050b4ac11c14218bfc29f3c2ac8de56",
      "22fc701e937d493996348ca6c11301bf",
      "1015daf0f7cb4c2e8c6f9abc7136572e",
      "79a8e47d94fc4d6c949136b4468775c9",
      "6f222b40314e44d49943a63ebcf1e679",
      "2aa282bd66ef41b6893978379d219f72",
      "10a47b8d03354c5698f396f73cd4cb28",
      "05387ef6c9414fd4aa390835cfa82994",
      "bbbf6f049a4d4502b1611ddea2f73429",
      "428ed1ad68fe4fa1863c7e1ed2b8b126",
      "9300ade50c024ae3845a7e39efb26557",
      "9d022257138040ab87695c0a4b6cd048",
      "f0b7d3b0f715480088db42752482410f",
      "459cd68b0d7a4eb1a05346bef3873335",
      "b5c629c989424bf4a459fee2ae9ba2a8",
      "9943c5585ea54179be89ffd31c3d279d",
      "7467f7d1b9ef4a4fa4e586aea6c4837d",
      "b4baa5728b3843f4a50bc86ab7e45e5f",
      "7055a24320274ffe923bd82accc76880",
      "ee6562a110c946f79e71d5320dacfb06",
      "8835d211d3944f33a6b423b650e256ff",
      "20197c032f8f494dbac492046987c760",
      "3b1b7ec82a514fa0844d673b2ced9291",
      "30f69d965ffe42738e109a9238a52762",
      "aeca279c5e06445a97c3e5ce08dfe2d0",
      "e220db274244466eb5d42b112064933a",
      "05ab2d16a6224adb9981b3e97fd4db37",
      "bd4bf6abec1e45cbb2de98c5ed655d34",
      "088099816fb2421f994ddfc4a901692a",
      "d33626ddeedd49278807d3289a6775f4",
      "9361287e72a545fb985281d3db729c88",
      "e7d776dd701241c0a0ec78431730628d",
      "b0cd8b28701442b4b84186bf3a0784a8",
      "16e7733d6fdf45dba047af48b5288536",
      "386417d879d146ab8fd0efbf7383798c",
      "d9c577356ee54ead8100d0c2b51407a9",
      "eba0ce87ec9a476798e7aaf4d417ea96",
      "2628218e0bc74018ad099445b10c8c07",
      "993582d79ca0465f97f3193834b01981",
      "09ad83d7f1df45cd980ed57cfc564b62",
      "2cb412eb4459492b978ee79d4a7e7470",
      "290589d4c357477e9b312c37570447eb",
      "61e118dc11ea43b1a8b0c3b4fc067594",
      "fd57a9aa07024980ba6b055588f9ba07",
      "77284d17496f4c0a8303c6b3fde8ccc3",
      "5fe30f5d71604d60a7d7ac69e42fd021",
      "f6b91a3a14ca497c953755b023e4b8aa",
      "437fbbd6379a46ac90293b13e2c70b05",
      "bcd4dfd375b546b38ec0894edc084135",
      "de476bf8645741faa1eae741189ae5d4",
      "9d87f461c702414c85c774a7e33ceb1a",
      "80f1e470f1b742b28d25392cca82cf0e",
      "cff907d6b04b45958caa5021d37340d9",
      "6f4150c4ec5f4030990d37d915e210f0",
      "a670f1a1ab65436c88ea3b5d69f844a8",
      "9cdbb3d362ab4483b9cbc957453bb4a6",
      "1dc86c56b60e4016909629efb2976a5e",
      "206b8acf877445b3bc1f3aec55970e37",
      "0112c8e6ffa7401c95ed53e6c8846f53",
      "9f081ea0e4fd47d290f1c02824a4eaf7",
      "a6759f22e00945338d0dd20b596e21aa"
     ]
    },
    "execution": {
     "iopub.execute_input": "2024-02-29T17:41:25.628804Z",
     "iopub.status.busy": "2024-02-29T17:41:25.628412Z",
     "iopub.status.idle": "2024-02-29T17:41:30.202141Z",
     "shell.execute_reply": "2024-02-29T17:41:30.200774Z",
     "shell.execute_reply.started": "2024-02-29T17:41:25.628766Z"
    },
    "id": "CU2T4lp-9TD7",
    "outputId": "cdf50fbb-345e-42fc-b879-fc9f6c1f85cf"
   },
   "outputs": [
    {
     "data": {
      "application/vnd.jupyter.widget-view+json": {
       "model_id": "2ae8b8c1ecb640b5a5371f2835d9122a",
       "version_major": 2,
       "version_minor": 0
      },
      "text/plain": [
       "tokenizer_config.json:   0%|          | 0.00/34.2k [00:00<?, ?B/s]"
      ]
     },
     "metadata": {},
     "output_type": "display_data"
    },
    {
     "data": {
      "application/vnd.jupyter.widget-view+json": {
       "model_id": "aed597024a3641ea9809d0086580c516",
       "version_major": 2,
       "version_minor": 0
      },
      "text/plain": [
       "tokenizer.model:   0%|          | 0.00/4.24M [00:00<?, ?B/s]"
      ]
     },
     "metadata": {},
     "output_type": "display_data"
    },
    {
     "data": {
      "application/vnd.jupyter.widget-view+json": {
       "model_id": "b6a42231d8f54199b5cd028a91542bed",
       "version_major": 2,
       "version_minor": 0
      },
      "text/plain": [
       "tokenizer.json:   0%|          | 0.00/17.5M [00:00<?, ?B/s]"
      ]
     },
     "metadata": {},
     "output_type": "display_data"
    },
    {
     "data": {
      "application/vnd.jupyter.widget-view+json": {
       "model_id": "d9b3b5e2e6dd45bab118fc2276b452e5",
       "version_major": 2,
       "version_minor": 0
      },
      "text/plain": [
       "special_tokens_map.json:   0%|          | 0.00/636 [00:00<?, ?B/s]"
      ]
     },
     "metadata": {},
     "output_type": "display_data"
    },
    {
     "data": {
      "application/vnd.jupyter.widget-view+json": {
       "model_id": "97d3bdccf9654f03ad72169c735d32da",
       "version_major": 2,
       "version_minor": 0
      },
      "text/plain": [
       "config.json:   0%|          | 0.00/627 [00:00<?, ?B/s]"
      ]
     },
     "metadata": {},
     "output_type": "display_data"
    },
    {
     "data": {
      "application/vnd.jupyter.widget-view+json": {
       "model_id": "091c777150ee45eea7826e3d76fc25ff",
       "version_major": 2,
       "version_minor": 0
      },
      "text/plain": [
       "model.safetensors.index.json:   0%|          | 0.00/13.5k [00:00<?, ?B/s]"
      ]
     },
     "metadata": {},
     "output_type": "display_data"
    },
    {
     "data": {
      "application/vnd.jupyter.widget-view+json": {
       "model_id": "10a47b8d03354c5698f396f73cd4cb28",
       "version_major": 2,
       "version_minor": 0
      },
      "text/plain": [
       "Downloading shards:   0%|          | 0/2 [00:00<?, ?it/s]"
      ]
     },
     "metadata": {},
     "output_type": "display_data"
    },
    {
     "data": {
      "application/vnd.jupyter.widget-view+json": {
       "model_id": "b4baa5728b3843f4a50bc86ab7e45e5f",
       "version_major": 2,
       "version_minor": 0
      },
      "text/plain": [
       "model-00001-of-00002.safetensors:   0%|          | 0.00/4.95G [00:00<?, ?B/s]"
      ]
     },
     "metadata": {},
     "output_type": "display_data"
    },
    {
     "data": {
      "application/vnd.jupyter.widget-view+json": {
       "model_id": "088099816fb2421f994ddfc4a901692a",
       "version_major": 2,
       "version_minor": 0
      },
      "text/plain": [
       "model-00002-of-00002.safetensors:   0%|          | 0.00/67.1M [00:00<?, ?B/s]"
      ]
     },
     "metadata": {},
     "output_type": "display_data"
    },
    {
     "data": {
      "application/vnd.jupyter.widget-view+json": {
       "model_id": "09ad83d7f1df45cd980ed57cfc564b62",
       "version_major": 2,
       "version_minor": 0
      },
      "text/plain": [
       "Loading checkpoint shards:   0%|          | 0/2 [00:00<?, ?it/s]"
      ]
     },
     "metadata": {},
     "output_type": "display_data"
    },
    {
     "data": {
      "application/vnd.jupyter.widget-view+json": {
       "model_id": "9d87f461c702414c85c774a7e33ceb1a",
       "version_major": 2,
       "version_minor": 0
      },
      "text/plain": [
       "generation_config.json:   0%|          | 0.00/137 [00:00<?, ?B/s]"
      ]
     },
     "metadata": {},
     "output_type": "display_data"
    }
   ],
   "source": [
    "model_id = \"google/gemma-2b-it\"    #model_id = \"databricks/dolly-v2-3b\"\n",
    "tokenizer = AutoTokenizer.from_pretrained(model_id)\n",
    "model = AutoModelForCausalLM.from_pretrained(model_id,\n",
    "                                             device_map=\"cuda\",\n",
    "                                            torch_dtype=torch.bfloat16)"
   ]
  },
  {
   "cell_type": "markdown",
   "metadata": {
    "id": "mYLFN-3z5QhU"
   },
   "source": [
    "# To use or not to use the pipeline\n",
    "📌 When should we use pipeline?\n",
    "\n",
    "For quick and simple tasks, such as testing the model with short inputs.\n",
    "When we don't want to manually handle tokenization, input processing, and model execution.\n",
    "For tasks like summarization, translation, and text generation without needing complex configurations.\n",
    "\n",
    "📌 When should we use AutoModelForCausalLM and AutoTokenizer?\n",
    "\n",
    "When we need precise control over the model and data processing.\n",
    "In advanced scenarios such as RAG, batch processing, GPU optimization, and custom model settings.\n",
    "When we want to fine-tune the model and manage the output more accurately."
   ]
  },
  {
   "cell_type": "markdown",
   "metadata": {
    "id": "GzHuFrAX9TD7"
   },
   "source": [
    "## Creating the extended prompt\n",
    "To create the prompt we use the result from query the 'semantic_cache' class  and the question introduced by the user.\n",
    "\n",
    "The prompt have two parts, the **relevant context** that is the information recovered from the database and the **user's question**.\n",
    "\n",
    "We only need to put the two parts together to create the prompt then send it to the model."
   ]
  },
  {
   "cell_type": "code",
   "execution_count": 28,
   "metadata": {
    "colab": {
     "base_uri": "https://localhost:8080/"
    },
    "id": "TdjbfAHhFuhS",
    "outputId": "9ade97bf-8cca-48f9-cd87-9dbe9d40fe86"
   },
   "outputs": [
    {
     "name": "stdout",
     "output_type": "stream",
     "text": [
      "\n",
      "You are an AI assistant that provides clear and concise answers based on the given context.\n",
      "\n",
      "Relevant context: Familial periodic paralyses are a group of inherited neurological disorders caused by mutations in genes that regulate sodium and calcium channels in nerve cells. They are characterized by episodes in which the affected muscles become slack, weak, and unable to contract. Between attacks, the affected muscles usually work as normal.\n",
      "                \n",
      "The two most common types of periodic paralyses are: Hypokalemic periodic paralysis is characterized by a fall in potassium levels in the blood. In individuals with this mutation attacks often begin in adolescence and are triggered by strenuous exercise, high carbohydrate meals, or by injection of insulin, glucose, or epinephrine. Weakness may be mild and limited to certain muscle groups, or more severe and affect the arms and legs. Attacks may last for a few hours or persist for several days. Some patients may develop chronic muscle weakness later in life. Hyperkalemic periodic paralysis is characterized by a rise in potassium levels in the blood. Attacks often begin in infancy or early childhood and are precipitated by rest after exercise or by fasting. Attacks are usually shorter, more frequent, and less severe than the hypokalemic form. Muscle spasms are common.\n",
      "\n",
      "The user's question: Write in 20 words what is a periodic paralyses\n",
      "\n",
      "Please provide a detailed yet concise answer.\n",
      "\n"
     ]
    }
   ],
   "source": [
    "prompt_template = f\"\"\"\n",
    "You are an AI assistant that provides clear and concise answers based on the given context.\n",
    "\n",
    "Relevant context: {results}\n",
    "\n",
    "The user's question: {question_def}\n",
    "\n",
    "Please provide a detailed yet concise answer.\n",
    "\"\"\"\n",
    "print(prompt_template)"
   ]
  },
  {
   "cell_type": "code",
   "execution_count": 29,
   "metadata": {
    "id": "DmYAcXEEECnz"
   },
   "outputs": [],
   "source": [
    "input_ids = tokenizer(prompt_template, return_tensors=\"pt\").to(\"cuda\")   # pt = pytorch tensor"
   ]
  },
  {
   "cell_type": "code",
   "execution_count": 30,
   "metadata": {
    "colab": {
     "base_uri": "https://localhost:8080/"
    },
    "id": "lheL8vHpEMDD",
    "outputId": "6acb7671-78ab-42dc-ce7e-fc552baf7b22"
   },
   "outputs": [
    {
     "name": "stdout",
     "output_type": "stream",
     "text": [
      "<bos>\n",
      "You are an AI assistant that provides clear and concise answers based on the given context.\n",
      "\n",
      "Relevant context: Familial periodic paralyses are a group of inherited neurological disorders caused by mutations in genes that regulate sodium and calcium channels in nerve cells. They are characterized by episodes in which the affected muscles become slack, weak, and unable to contract. Between attacks, the affected muscles usually work as normal.\n",
      "                \n",
      "The two most common types of periodic paralyses are: Hypokalemic periodic paralysis is characterized by a fall in potassium levels in the blood. In individuals with this mutation attacks often begin in adolescence and are triggered by strenuous exercise, high carbohydrate meals, or by injection of insulin, glucose, or epinephrine. Weakness may be mild and limited to certain muscle groups, or more severe and affect the arms and legs. Attacks may last for a few hours or persist for several days. Some patients may develop chronic muscle weakness later in life. Hyperkalemic periodic paralysis is characterized by a rise in potassium levels in the blood. Attacks often begin in infancy or early childhood and are precipitated by rest after exercise or by fasting. Attacks are usually shorter, more frequent, and less severe than the hypokalemic form. Muscle spasms are common.\n",
      "\n",
      "The user's question: Write in 20 words what is a periodic paralyses\n",
      "\n",
      "Please provide a detailed yet concise answer.\n",
      "Sure, here's a 20-word answer:\n",
      "\n",
      "A group of inherited neurological disorders characterized by episodes of muscle weakness and paralysis.<eos>\n"
     ]
    }
   ],
   "source": [
    "outputs = model.generate(**input_ids,max_new_tokens=256)\n",
    "print(tokenizer.decode(outputs[0]))"
   ]
  },
  {
   "cell_type": "code",
   "execution_count": 30,
   "metadata": {
    "id": "UkhXFkXB9YFH"
   },
   "outputs": [],
   "source": []
  }
 ],
 "metadata": {
  "accelerator": "GPU",
  "colab": {
   "gpuType": "T4",
   "machine_shape": "hm",
   "provenance": []
  },
  "kaggle": {
   "accelerator": "gpu",
   "dataSources": [
    {
     "datasetId": 3496946,
     "sourceId": 6104553,
     "sourceType": "datasetVersion"
    }
   ],
   "dockerImageVersionId": 30527,
   "isGpuEnabled": true,
   "isInternetEnabled": true,
   "language": "python",
   "sourceType": "notebook"
  },
  "kernelspec": {
   "display_name": "Python 3",
   "name": "python3"
  },
  "language_info": {
   "codemirror_mode": {
    "name": "ipython",
    "version": 3
   },
   "file_extension": ".py",
   "mimetype": "text/x-python",
   "name": "python",
   "nbconvert_exporter": "python",
   "pygments_lexer": "ipython3",
   "version": "3.10.12"
  }
 },
 "nbformat": 4,
 "nbformat_minor": 0
}
