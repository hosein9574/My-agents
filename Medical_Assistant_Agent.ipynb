{
  "cells": [
    {
      "cell_type": "markdown",
      "metadata": {},
      "source": [
        "# Create a Medical Assistant RAG System chat with LangChainAgent & ChromaDB,using Together AI API key\n"
      ]
    },
    {
      "cell_type": "markdown",
      "metadata": {},
      "source": [
        "[![Open in Colab](https://colab.research.google.com/assets/colab-badge.svg)](https://colab.research.google.com/github/hosein9574/My-agents/blob/main/Medical_Assistant_Agent.ipynb)\n"
      ]
    },
    {
      "cell_type": "code",
      "execution_count": null,
      "metadata": {},
      "outputs": [],
      "source": [
        "!pip install -q llama-cpp-python langchain langchain-community langchainhub datasets chromadb sentence-transformers"
      ]
    },
    {
      "cell_type": "code",
      "execution_count": null,
      "metadata": {},
      "outputs": [],
      "source": [
        "from datasets import load_dataset\n",
        "from langchain.document_loaders import DataFrameLoader\n",
        "from langchain.text_splitter import CharacterTextSplitter\n",
        "from langchain.embeddings import HuggingFaceEmbeddings\n",
        "from langchain.vectorstores import Chroma\n",
        "from langchain.chains import RetrievalQA , LLMChain\n",
        "from langchain.memory import ConversationBufferWindowMemory\n",
        "from langchain.agents import Tool, AgentExecutor, create_react_agent\n",
        "from langchain import hub\n",
        "from langchain_community.llms import LlamaCpp\n",
        "\n",
        "import os"
      ]
    },
    {
      "cell_type": "code",
      "execution_count": null,
      "metadata": {},
      "outputs": [],
      "source": [
        "!pip install datasets --upgrade\n",
        "\n",
        "import pandas as pd\n",
        "from langchain_community.document_loaders import DataFrameLoader\n",
        "\n",
        "dataset = load_dataset(\"keivalya/MedQuad-MedicalQnADataset\", split=\"train\")\n",
        "\n",
        "# Convert the first 100 entries into a pandas DataFrame\n",
        "df = pd.DataFrame(dataset[:100])\n",
        "\n",
        "# Load documents using LangChain's DataFrameLoader\n",
        "df_loader = DataFrameLoader(df, page_content_column=\"Answer\")\n",
        "df_document = df_loader.load()"
      ]
    },
    {
      "cell_type": "markdown",
      "metadata": {},
      "source": [
        "These warnings we see are because it can't perform the partition of the required size. This is because it waits for a page break to divide the text and does so when possible."
      ]
    },
    {
      "cell_type": "code",
      "execution_count": null,
      "metadata": {},
      "outputs": [
        {
          "data": {
            "application/vnd.google.colaboratory.intrinsic+json": {
              "summary": "{\n  \"name\": \"df[:100]\",\n  \"rows\": 100,\n  \"fields\": [\n    {\n      \"column\": \"qtype\",\n      \"properties\": {\n        \"dtype\": \"category\",\n        \"num_unique_values\": 8,\n        \"samples\": [\n          \"symptoms\",\n          \"information\",\n          \"susceptibility\"\n        ],\n        \"semantic_type\": \"\",\n        \"description\": \"\"\n      }\n    },\n    {\n      \"column\": \"Question\",\n      \"properties\": {\n        \"dtype\": \"string\",\n        \"num_unique_values\": 97,\n        \"samples\": [\n          \"What are the treatments for Parasites - Taeniasis ?\",\n          \"Who is at risk for Parasites - Toxocariasis (also known as Roundworm Infection)? ?\",\n          \"What are the treatments for Parasites - Leishmaniasis ?\"\n        ],\n        \"semantic_type\": \"\",\n        \"description\": \"\"\n      }\n    },\n    {\n      \"column\": \"Answer\",\n      \"properties\": {\n        \"dtype\": \"string\",\n        \"num_unique_values\": 100,\n        \"samples\": [\n          \"The respiratory failure and paralysis that occur with severe botulism may require a patient to be on a breathing machine (ventilator) for weeks or months, plus intensive medical and nursing care. The paralysis slowly improves. Botulism can be treated with an antitoxin which blocks the action of toxin circulating in the blood. Antitoxin for infants is available from the California Department of Public Health, and antitoxin for older children and adults is available through CDC.If given before paralysis is complete, antitoxin can prevent worsening and shorten recovery time. Physicians may try to remove contaminated food still in the gut by inducing vomiting or by using enemas. Wounds should be treated, usually surgically, to remove the source of the toxin-producing bacteria followed by administration of appropriate antibiotics. Good supportive care in a hospital is the mainstay of therapy for all forms of botulism.\",\n          \"Suggested General Guidelines \\n  \\n    \\n   \\n  \\nIt is important to remember that the first time a person gets scabies they usually have no symptoms during the first 2 to 6 weeks they are infested; however they can still spread scabies during this time. \\n  \\nTreatment should be given to both the infested person and to household members and sexual contacts, particularly those who have had prolonged direct skin-to-skin contact with the infested person. Both sexual and close personal contacts who have had direct prolonged skin-to-skin contact with an infested person within the preceding month should be examined and treated. All persons should be treated at the same time to prevent reinfestation. Scabies may sometimes be sexually-acquired in adults, but is rarely sexually-acquired in children. \\n  \\nBedding, clothing, and towels used by infested persons or their household, sexual, and close contacts (as defined above) anytime during the three days before treatment should be decontaminated by washing in hot water and drying in a hot dryer, by dry-cleaning, or by sealing in a plastic bag for at least 72 hours. Scabies mites generally do not survive more than 2 to 3 days away from human skin. \\n  \\nUse of insecticide sprays and fumigants is not recommended. \\n    \\n  Medications Used to Treat Scabies \\n  \\n    \\n   \\n  \\nProducts used to treat scabies are called scabicides because they kill scabies mites; some also kill mite eggs. Scabicides used to treat human scabies are available only with a doctor\\u2019s prescription. No \\u201cover-the-counter\\u201d (non-prescription) products have been tested and approved to treat scabies. \\n  \\nScabicide should be applied to all areas of the body from the neck down to the feet and toes. In addition, when treating infants and young children, scabicide also should be applied to their entire head and neck because scabies can affect their face, scalp, and neck, as well as the rest of their body. The scabicide should be applied to a clean body and left on for the recommended time before washing it off. Clean clothing should be worn after treatment. \\n  \\nThe instructions contained in the box or printed on the label always should be followed carefully. Always contact a doctor or pharmacist if unsure how to use a particular medicine. \\n  \\nBecause the symptoms of scabies are due to a hypersensitivity reaction (allergy) to mites and their feces (scybala), itching still may continue for several weeks after treatment even if all the mites and eggs are killed. If itching still is present more than 2 to 4 weeks after treatment or if new burrows or pimple-like rash lesions continue to appear, retreatment may be necessary. \\n  \\nSkin sores that become infected should be treated with an appropriate antibiotic prescribed by a doctor.\",\n          \"Baylisascaris infection can be prevented by avoiding contact with raccoons and their feces. Washing your hands after working or playing outdoors is good practice for preventing a number of diseases.\\n    \\nDo not keep, feed, or adopt wild animals, including raccoons, as pets. Infection rarely causes symptoms in raccoons, so you cannot tell if a raccoon is infected by observing its behavior. Roundworm eggs passed in the feces of infected raccoons are not visible to the naked eye. Eggs can only be seen using a microscope.\\n    \\n     \\n    \\n    \\nYou may discourage raccoons from living in and around your home or parks by taking these steps:\\n    \\n     - prevent access to food\\n     - keep trash containers tightly closed\\n     - close off access to attics and basements\\n     - keep sandboxes covered when not in use (raccoons may use sandboxes as a latrine)\\n     - remove fish ponds -- they eat the fish and drink the water\\n     - eliminate water sources\\n     - remove bird feeders\\n     - clear brush so raccoons are not likely to make a den on your property\\n    \\n    \\nStay away from areas and materials that might be contaminated by raccoon feces. Raccoons typically defecate at the base of or in raised forks of trees, or on raised horizontal surfaces such as fallen logs, stumps, or large rocks. Raccoon feces also can be found on woodpiles, decks, rooftops, and in attics, garages, and haylofts. Feces usually are dark and tubular, have a pungent odor (usually worse than dog or cat feces), and often contain undigested seeds or other food items.\\n    \\nIf you have found a raccoon latrine near your home, cleaning the area may prevent possible infection. Newly deposited eggs take at least 2-4 weeks to become infective. Prompt removal and destruction of raccoon feces will reduce risk for exposure and possible infection.\\n    \\nMore on: Raccoon Latrine Clean-up [PDF, 111 KB, 1 page]\\n    \\n     \\n    \\n    \\nIf you choose to clean the site yourself, care should be taken to avoid contaminating hands and clothes.\\n    \\n     - Wear disposable gloves to help prevent cross contamination.\\n     - Wear a N95-rated respirator if working in a confined space to prevent accidental ingestion of eggs or other harmful materials.\\n     - Avoid stirring up dust and debris- you can lightly mist the latrine area with a little water from a spray bottle to reduce the amount of dust.\\n     - Wear rubber boots that can be scrubbed or cover your shoes with disposable booties that can be thrown away, so that you do not bring eggs into your household.\\n     - Feces and material contaminated with raccoon feces should be removed and burned, buried, or sent to a landfill.\\n     - Most chemicals do not kill roundworm eggs; however, heat kills the eggs instantly.\\n     - Treat feces-soiled decks, patios, and other surfaces with boiling water or a propane torch (please contact your local fire department for regulations and safety practices).\\n    \\n    \\nTo help further reduce the risk of possible infection, wash your hands well with soap and warm running water. Clean/launder your clothes thoroughly with hot water and detergent.\\n    \\nMore on: Handwashing\\n    \\nIf you are cleaning an indoor raccoon latrine and are not able to use a propane torch, use a damp (but not wet) sponge to wipe the area with hot soapy water. Rinse your sponge frequently. After you are finished, flush dirty water down the toilet. Place the sponge in a plastic bag and put the plastic bag in the garbage.\\n    \\nContact your local animal control office for additional assistance.\\n    Dogs\\n    \\nDogs may be infected with adult B. procyonis roundworms, but may not show symptoms. Have all pets de-wormed under a veterinarian's supervision and take precautions to avoid contact with their feces.\\n    Exotic pets\\n    \\nRaccoons and dogs are not the only hosts of Baylisascaris. B. procyonis infection has also been documented in kinkajous. Other animals such as coatis may be susceptible. When wild animals are kept as pets, there can be a risk of disease transmission to humans.\"\n        ],\n        \"semantic_type\": \"\",\n        \"description\": \"\"\n      }\n    }\n  ]\n}",
              "type": "dataframe"
            },
            "text/html": [
              "\n",
              "  <div id=\"df-d9f0e4a5-48c4-45a2-a600-4c68a29a668f\" class=\"colab-df-container\">\n",
              "    <div>\n",
              "<style scoped>\n",
              "    .dataframe tbody tr th:only-of-type {\n",
              "        vertical-align: middle;\n",
              "    }\n",
              "\n",
              "    .dataframe tbody tr th {\n",
              "        vertical-align: top;\n",
              "    }\n",
              "\n",
              "    .dataframe thead th {\n",
              "        text-align: right;\n",
              "    }\n",
              "</style>\n",
              "<table border=\"1\" class=\"dataframe\">\n",
              "  <thead>\n",
              "    <tr style=\"text-align: right;\">\n",
              "      <th></th>\n",
              "      <th>qtype</th>\n",
              "      <th>Question</th>\n",
              "      <th>Answer</th>\n",
              "    </tr>\n",
              "  </thead>\n",
              "  <tbody>\n",
              "    <tr>\n",
              "      <th>0</th>\n",
              "      <td>susceptibility</td>\n",
              "      <td>Who is at risk for Lymphocytic Choriomeningiti...</td>\n",
              "      <td>LCMV infections can occur after exposure to fr...</td>\n",
              "    </tr>\n",
              "    <tr>\n",
              "      <th>1</th>\n",
              "      <td>symptoms</td>\n",
              "      <td>What are the symptoms of Lymphocytic Choriomen...</td>\n",
              "      <td>LCMV is most commonly recognized as causing ne...</td>\n",
              "    </tr>\n",
              "    <tr>\n",
              "      <th>2</th>\n",
              "      <td>susceptibility</td>\n",
              "      <td>Who is at risk for Lymphocytic Choriomeningiti...</td>\n",
              "      <td>Individuals of all ages who come into contact ...</td>\n",
              "    </tr>\n",
              "    <tr>\n",
              "      <th>3</th>\n",
              "      <td>exams and tests</td>\n",
              "      <td>How to diagnose Lymphocytic Choriomeningitis (...</td>\n",
              "      <td>During the first phase of the disease, the mos...</td>\n",
              "    </tr>\n",
              "    <tr>\n",
              "      <th>4</th>\n",
              "      <td>treatment</td>\n",
              "      <td>What are the treatments for Lymphocytic Chorio...</td>\n",
              "      <td>Aseptic meningitis, encephalitis, or meningoen...</td>\n",
              "    </tr>\n",
              "    <tr>\n",
              "      <th>...</th>\n",
              "      <td>...</td>\n",
              "      <td>...</td>\n",
              "      <td>...</td>\n",
              "    </tr>\n",
              "    <tr>\n",
              "      <th>95</th>\n",
              "      <td>exams and tests</td>\n",
              "      <td>How to diagnose Parasites - Leishmaniasis ?</td>\n",
              "      <td>Various laboratory methods can be used to diag...</td>\n",
              "    </tr>\n",
              "    <tr>\n",
              "      <th>96</th>\n",
              "      <td>treatment</td>\n",
              "      <td>What are the treatments for Parasites - Leishm...</td>\n",
              "      <td>Before considering treatment, the first step i...</td>\n",
              "    </tr>\n",
              "    <tr>\n",
              "      <th>97</th>\n",
              "      <td>prevention</td>\n",
              "      <td>How to prevent Parasites - Leishmaniasis ?</td>\n",
              "      <td>No vaccines or drugs to prevent infection are ...</td>\n",
              "    </tr>\n",
              "    <tr>\n",
              "      <th>98</th>\n",
              "      <td>information</td>\n",
              "      <td>What is (are) Parasites - Toxoplasmosis (Toxop...</td>\n",
              "      <td>A single-celled parasite called Toxoplasma gon...</td>\n",
              "    </tr>\n",
              "    <tr>\n",
              "      <th>99</th>\n",
              "      <td>susceptibility</td>\n",
              "      <td>Who is at risk for Parasites - Toxoplasmosis (...</td>\n",
              "      <td>Toxoplasmosis is caused by the protozoan paras...</td>\n",
              "    </tr>\n",
              "  </tbody>\n",
              "</table>\n",
              "<p>100 rows × 3 columns</p>\n",
              "</div>\n",
              "    <div class=\"colab-df-buttons\">\n",
              "\n",
              "  <div class=\"colab-df-container\">\n",
              "    <button class=\"colab-df-convert\" onclick=\"convertToInteractive('df-d9f0e4a5-48c4-45a2-a600-4c68a29a668f')\"\n",
              "            title=\"Convert this dataframe to an interactive table.\"\n",
              "            style=\"display:none;\">\n",
              "\n",
              "  <svg xmlns=\"http://www.w3.org/2000/svg\" height=\"24px\" viewBox=\"0 -960 960 960\">\n",
              "    <path d=\"M120-120v-720h720v720H120Zm60-500h600v-160H180v160Zm220 220h160v-160H400v160Zm0 220h160v-160H400v160ZM180-400h160v-160H180v160Zm440 0h160v-160H620v160ZM180-180h160v-160H180v160Zm440 0h160v-160H620v160Z\"/>\n",
              "  </svg>\n",
              "    </button>\n",
              "\n",
              "  <style>\n",
              "    .colab-df-container {\n",
              "      display:flex;\n",
              "      gap: 12px;\n",
              "    }\n",
              "\n",
              "    .colab-df-convert {\n",
              "      background-color: #E8F0FE;\n",
              "      border: none;\n",
              "      border-radius: 50%;\n",
              "      cursor: pointer;\n",
              "      display: none;\n",
              "      fill: #1967D2;\n",
              "      height: 32px;\n",
              "      padding: 0 0 0 0;\n",
              "      width: 32px;\n",
              "    }\n",
              "\n",
              "    .colab-df-convert:hover {\n",
              "      background-color: #E2EBFA;\n",
              "      box-shadow: 0px 1px 2px rgba(60, 64, 67, 0.3), 0px 1px 3px 1px rgba(60, 64, 67, 0.15);\n",
              "      fill: #174EA6;\n",
              "    }\n",
              "\n",
              "    .colab-df-buttons div {\n",
              "      margin-bottom: 4px;\n",
              "    }\n",
              "\n",
              "    [theme=dark] .colab-df-convert {\n",
              "      background-color: #3B4455;\n",
              "      fill: #D2E3FC;\n",
              "    }\n",
              "\n",
              "    [theme=dark] .colab-df-convert:hover {\n",
              "      background-color: #434B5C;\n",
              "      box-shadow: 0px 1px 3px 1px rgba(0, 0, 0, 0.15);\n",
              "      filter: drop-shadow(0px 1px 2px rgba(0, 0, 0, 0.3));\n",
              "      fill: #FFFFFF;\n",
              "    }\n",
              "  </style>\n",
              "\n",
              "    <script>\n",
              "      const buttonEl =\n",
              "        document.querySelector('#df-d9f0e4a5-48c4-45a2-a600-4c68a29a668f button.colab-df-convert');\n",
              "      buttonEl.style.display =\n",
              "        google.colab.kernel.accessAllowed ? 'block' : 'none';\n",
              "\n",
              "      async function convertToInteractive(key) {\n",
              "        const element = document.querySelector('#df-d9f0e4a5-48c4-45a2-a600-4c68a29a668f');\n",
              "        const dataTable =\n",
              "          await google.colab.kernel.invokeFunction('convertToInteractive',\n",
              "                                                    [key], {});\n",
              "        if (!dataTable) return;\n",
              "\n",
              "        const docLinkHtml = 'Like what you see? Visit the ' +\n",
              "          '<a target=\"_blank\" href=https://colab.research.google.com/notebooks/data_table.ipynb>data table notebook</a>'\n",
              "          + ' to learn more about interactive tables.';\n",
              "        element.innerHTML = '';\n",
              "        dataTable['output_type'] = 'display_data';\n",
              "        await google.colab.output.renderOutput(dataTable, element);\n",
              "        const docLink = document.createElement('div');\n",
              "        docLink.innerHTML = docLinkHtml;\n",
              "        element.appendChild(docLink);\n",
              "      }\n",
              "    </script>\n",
              "  </div>\n",
              "\n",
              "\n",
              "    <div id=\"df-b4699745-1aff-486a-a498-1c6d6795a2ee\">\n",
              "      <button class=\"colab-df-quickchart\" onclick=\"quickchart('df-b4699745-1aff-486a-a498-1c6d6795a2ee')\"\n",
              "                title=\"Suggest charts\"\n",
              "                style=\"display:none;\">\n",
              "\n",
              "<svg xmlns=\"http://www.w3.org/2000/svg\" height=\"24px\"viewBox=\"0 0 24 24\"\n",
              "     width=\"24px\">\n",
              "    <g>\n",
              "        <path d=\"M19 3H5c-1.1 0-2 .9-2 2v14c0 1.1.9 2 2 2h14c1.1 0 2-.9 2-2V5c0-1.1-.9-2-2-2zM9 17H7v-7h2v7zm4 0h-2V7h2v10zm4 0h-2v-4h2v4z\"/>\n",
              "    </g>\n",
              "</svg>\n",
              "      </button>\n",
              "\n",
              "<style>\n",
              "  .colab-df-quickchart {\n",
              "      --bg-color: #E8F0FE;\n",
              "      --fill-color: #1967D2;\n",
              "      --hover-bg-color: #E2EBFA;\n",
              "      --hover-fill-color: #174EA6;\n",
              "      --disabled-fill-color: #AAA;\n",
              "      --disabled-bg-color: #DDD;\n",
              "  }\n",
              "\n",
              "  [theme=dark] .colab-df-quickchart {\n",
              "      --bg-color: #3B4455;\n",
              "      --fill-color: #D2E3FC;\n",
              "      --hover-bg-color: #434B5C;\n",
              "      --hover-fill-color: #FFFFFF;\n",
              "      --disabled-bg-color: #3B4455;\n",
              "      --disabled-fill-color: #666;\n",
              "  }\n",
              "\n",
              "  .colab-df-quickchart {\n",
              "    background-color: var(--bg-color);\n",
              "    border: none;\n",
              "    border-radius: 50%;\n",
              "    cursor: pointer;\n",
              "    display: none;\n",
              "    fill: var(--fill-color);\n",
              "    height: 32px;\n",
              "    padding: 0;\n",
              "    width: 32px;\n",
              "  }\n",
              "\n",
              "  .colab-df-quickchart:hover {\n",
              "    background-color: var(--hover-bg-color);\n",
              "    box-shadow: 0 1px 2px rgba(60, 64, 67, 0.3), 0 1px 3px 1px rgba(60, 64, 67, 0.15);\n",
              "    fill: var(--button-hover-fill-color);\n",
              "  }\n",
              "\n",
              "  .colab-df-quickchart-complete:disabled,\n",
              "  .colab-df-quickchart-complete:disabled:hover {\n",
              "    background-color: var(--disabled-bg-color);\n",
              "    fill: var(--disabled-fill-color);\n",
              "    box-shadow: none;\n",
              "  }\n",
              "\n",
              "  .colab-df-spinner {\n",
              "    border: 2px solid var(--fill-color);\n",
              "    border-color: transparent;\n",
              "    border-bottom-color: var(--fill-color);\n",
              "    animation:\n",
              "      spin 1s steps(1) infinite;\n",
              "  }\n",
              "\n",
              "  @keyframes spin {\n",
              "    0% {\n",
              "      border-color: transparent;\n",
              "      border-bottom-color: var(--fill-color);\n",
              "      border-left-color: var(--fill-color);\n",
              "    }\n",
              "    20% {\n",
              "      border-color: transparent;\n",
              "      border-left-color: var(--fill-color);\n",
              "      border-top-color: var(--fill-color);\n",
              "    }\n",
              "    30% {\n",
              "      border-color: transparent;\n",
              "      border-left-color: var(--fill-color);\n",
              "      border-top-color: var(--fill-color);\n",
              "      border-right-color: var(--fill-color);\n",
              "    }\n",
              "    40% {\n",
              "      border-color: transparent;\n",
              "      border-right-color: var(--fill-color);\n",
              "      border-top-color: var(--fill-color);\n",
              "    }\n",
              "    60% {\n",
              "      border-color: transparent;\n",
              "      border-right-color: var(--fill-color);\n",
              "    }\n",
              "    80% {\n",
              "      border-color: transparent;\n",
              "      border-right-color: var(--fill-color);\n",
              "      border-bottom-color: var(--fill-color);\n",
              "    }\n",
              "    90% {\n",
              "      border-color: transparent;\n",
              "      border-bottom-color: var(--fill-color);\n",
              "    }\n",
              "  }\n",
              "</style>\n",
              "\n",
              "      <script>\n",
              "        async function quickchart(key) {\n",
              "          const quickchartButtonEl =\n",
              "            document.querySelector('#' + key + ' button');\n",
              "          quickchartButtonEl.disabled = true;  // To prevent multiple clicks.\n",
              "          quickchartButtonEl.classList.add('colab-df-spinner');\n",
              "          try {\n",
              "            const charts = await google.colab.kernel.invokeFunction(\n",
              "                'suggestCharts', [key], {});\n",
              "          } catch (error) {\n",
              "            console.error('Error during call to suggestCharts:', error);\n",
              "          }\n",
              "          quickchartButtonEl.classList.remove('colab-df-spinner');\n",
              "          quickchartButtonEl.classList.add('colab-df-quickchart-complete');\n",
              "        }\n",
              "        (() => {\n",
              "          let quickchartButtonEl =\n",
              "            document.querySelector('#df-b4699745-1aff-486a-a498-1c6d6795a2ee button');\n",
              "          quickchartButtonEl.style.display =\n",
              "            google.colab.kernel.accessAllowed ? 'block' : 'none';\n",
              "        })();\n",
              "      </script>\n",
              "    </div>\n",
              "    </div>\n",
              "  </div>\n"
            ],
            "text/plain": [
              "              qtype                                           Question  \\\n",
              "0    susceptibility  Who is at risk for Lymphocytic Choriomeningiti...   \n",
              "1          symptoms  What are the symptoms of Lymphocytic Choriomen...   \n",
              "2    susceptibility  Who is at risk for Lymphocytic Choriomeningiti...   \n",
              "3   exams and tests  How to diagnose Lymphocytic Choriomeningitis (...   \n",
              "4         treatment  What are the treatments for Lymphocytic Chorio...   \n",
              "..              ...                                                ...   \n",
              "95  exams and tests        How to diagnose Parasites - Leishmaniasis ?   \n",
              "96        treatment  What are the treatments for Parasites - Leishm...   \n",
              "97       prevention         How to prevent Parasites - Leishmaniasis ?   \n",
              "98      information  What is (are) Parasites - Toxoplasmosis (Toxop...   \n",
              "99   susceptibility  Who is at risk for Parasites - Toxoplasmosis (...   \n",
              "\n",
              "                                               Answer  \n",
              "0   LCMV infections can occur after exposure to fr...  \n",
              "1   LCMV is most commonly recognized as causing ne...  \n",
              "2   Individuals of all ages who come into contact ...  \n",
              "3   During the first phase of the disease, the mos...  \n",
              "4   Aseptic meningitis, encephalitis, or meningoen...  \n",
              "..                                                ...  \n",
              "95  Various laboratory methods can be used to diag...  \n",
              "96  Before considering treatment, the first step i...  \n",
              "97  No vaccines or drugs to prevent infection are ...  \n",
              "98  A single-celled parasite called Toxoplasma gon...  \n",
              "99  Toxoplasmosis is caused by the protozoan paras...  \n",
              "\n",
              "[100 rows x 3 columns]"
            ]
          },
          "metadata": {},
          "output_type": "display_data"
        }
      ],
      "source": [
        "df[:100]"
      ]
    },
    {
      "cell_type": "code",
      "execution_count": null,
      "metadata": {},
      "outputs": [],
      "source": [
        "# split into chunks\n",
        "text_splitter = CharacterTextSplitter(chunk_size=1250, separator=\"\\n\", chunk_overlap=100)\n",
        "texts = text_splitter.split_documents(df_document)"
      ]
    },
    {
      "cell_type": "code",
      "execution_count": null,
      "metadata": {},
      "outputs": [],
      "source": [
        "# create embeddings and vector store in chroma\n",
        "embedding_model = HuggingFaceEmbeddings(model_name=\"sentence-transformers/all-MiniLM-L6-v2\")\n",
        "chroma_db = Chroma.from_documents(texts, embedding_model, persist_directory=\"./chromadb\")\n"
      ]
    },
    {
      "cell_type": "code",
      "execution_count": null,
      "metadata": {},
      "outputs": [],
      "source": [
        "# Load model from Together.ai\n",
        "!pip install -q together\n",
        "\n",
        "import getpass\n",
        "from langchain_community.llms import Together\n",
        "\n",
        "# Prompt user to securely enter their Together.ai API key\n",
        "os.environ[\"TOGETHER_API_KEY\"] = getpass.getpass(\"Enter your Together.ai API key: \")\n",
        "\n",
        "# Initialize Together.ai LLM\n",
        "llm = Together(\n",
        "    model=\"mistralai/Mistral-7B-Instruct-v0.2\",\n",
        "    temperature=0.0,\n",
        "    max_tokens=1024,\n",
        "    top_p=1,\n",
        "    together_api_key=os.environ[\"TOGETHER_API_KEY\"],\n",
        ")"
      ]
    },
    {
      "cell_type": "code",
      "execution_count": null,
      "metadata": {},
      "outputs": [],
      "source": [
        "from langchain.prompts import PromptTemplate\n",
        "from langchain.agents import initialize_agent, AgentType"
      ]
    },
    {
      "cell_type": "markdown",
      "metadata": {},
      "source": [
        "# Agent Use cases:\n",
        "\n",
        "In general, using LangChain agents is useful when there is a need to manage and coordinate multiple tools and processing steps. In summary, the situations where LangChain agents are used include:\n",
        "\n",
        "- Multi-step responses: When questions or tasks involve multiple steps to solve (e.g., combining medical Q&A with summarizing content).\n",
        "  \n",
        "- Utilizing diverse tools: When you want to seamlessly integrate multiple tools like RAG, summarization, or database searches.\n",
        "  \n",
        "- Managing dynamic interactions: When answers need to be adjusted based on conversation history and changing conditions.\n",
        "  \n",
        "- Coordinating complex processes: In projects that require the agent to autonomously decide which tools to use in order to quickly arrive at comprehensive results."
      ]
    },
    {
      "cell_type": "code",
      "execution_count": null,
      "metadata": {},
      "outputs": [],
      "source": [
        "# tool1 = RAG\n",
        "qa = RetrievalQA.from_chain_type(llm=llm, chain_type=\"stuff\", retriever=chroma_db.as_retriever())\n",
        "\n",
        "# tool2 = summarizer\n",
        "summary_prompt = PromptTemplate.from_template(\"Summarize this text:\\n\\n{text}\")\n",
        "summary_chain = LLMChain(llm=llm, prompt=summary_prompt)"
      ]
    },
    {
      "cell_type": "markdown",
      "metadata": {},
      "source": [
        "**Rate Limiting and Delay Tool**\n",
        "\n",
        "This code enforces rate limits on the agent’s requests to avoid exceeding the API limits from **Together.ai**. The system is set to:\n",
        "\n",
        "*   **1 QPS (Query Per Second): Ensures that only one request is sent every second.**\n",
        "*   **60 RPM (Requests Per Minute): Limits the agent to no more than 60 requests per minute.**\n",
        "\n",
        "To achieve this, the code tracks the timestamps of previous requests and enforces a delay whenever necessary:\n",
        "\n",
        "*   **For QPS: If the previous request was made less than a second ago, the tool waits for the required time before sending the next request.**\n",
        "*   **For RPM: If 60 requests have been made within the last minute, the tool waits until the minute is over before continuing.**\n",
        "\n",
        "This ensures compliance with rate limits and prevents errors due to too many requests."
      ]
    },
    {
      "cell_type": "code",
      "execution_count": null,
      "metadata": {},
      "outputs": [],
      "source": [
        "import time\n",
        "\n",
        "# Define delayed functions for each tool to respect QPS\n",
        "def delayed_qa_run(*args, **kwargs):\n",
        "    time.sleep(1.1)  # sleep 1.1s before running to respect QPS\n",
        "    return qa.run(*args, **kwargs)\n",
        "\n",
        "def delayed_summary_run(*args, **kwargs):\n",
        "    time.sleep(1.1)\n",
        "    return summary_chain.run(*args, **kwargs)\n",
        "\n",
        "# Create tools with the delayed functions\n",
        "tools = [\n",
        "    Tool(\n",
        "        name=\"Medical QA\",\n",
        "        func=delayed_qa_run,\n",
        "        description=\"Answering medical questions. Example: What are the symptoms of high blood pressure?\"\n",
        "    ),\n",
        "    Tool(\n",
        "        name=\"Summarizer\",\n",
        "        func=delayed_summary_run,\n",
        "        description=\"Summarizing the answer retrived from database or any other text\"\n",
        "    )\n",
        "]"
      ]
    },
    {
      "cell_type": "code",
      "execution_count": null,
      "metadata": {},
      "outputs": [],
      "source": [
        "# Create agent using `initialize_agent` which handles prompt construction and memory\n",
        "agent_executor = initialize_agent(\n",
        "    tools=tools,\n",
        "    llm=llm,\n",
        "    agent=AgentType.CONVERSATIONAL_REACT_DESCRIPTION,  # Using a conversational agent for context management\n",
        "    memory=conversational_memory,\n",
        "    verbose=True\n",
        ")"
      ]
    },
    {
      "cell_type": "code",
      "execution_count": null,
      "metadata": {},
      "outputs": [
        {
          "name": "stdout",
          "output_type": "stream",
          "text": [
            "\n",
            "\n",
            "\u001b[1m> Entering new AgentExecutor chain...\u001b[0m\n",
            "\u001b[32;1m\u001b[1;3m\n",
            "Thought: Do I need to use a tool? Yes\n",
            "Action: Medical QA\n",
            "Action Input: What are the symptoms of Lymphocytic Choriomeningitis?\u001b[0m\n",
            "Observation: \u001b[36;1m\u001b[1;3m The symptoms of Lymphocytic Choriomeningitis (LCMV) usually occur 8-13 days after exposure to the virus as part of a biphasic febrile illness. This initial phase, which may last as long as a week, typically begins with any or all of the following symptoms: fever, malaise, lack of appetite, muscle aches, headache, nausea, and vomiting. Other symptoms appearing less frequently include sore throat, cough, joint pain, chest pain, testicular pain, and parotid (salivary gland) pain.\u001b[0m\n",
            "Thought:\u001b[32;1m\u001b[1;3m Do I need to summarize the answer? Yes\n",
            "Action: Summarizer\n",
            "Action Input: The symptoms of Lymphocytic Choriomeningitis (LCMV) usually occur 8-13 days after exposure to the virus as part of a biphasic febrile illness. This initial phase, which may last as long as a week, typically begins with any or all of the following symptoms: fever, malaise, lack of appetite, muscle aches, headache, nausea, and vomiting. Other symptoms appearing less frequently include sore throat, cough, joint pain, chest pain, testicular pain, and parotid (salivary gland) pain.\u001b[0m\n",
            "Observation: \u001b[33;1m\u001b[1;3m The second phase of the illness, which may last for several days, is characterized by a rash that appears on the trunk and extremities. The rash is usually maculopapular, meaning it is flat and slightly raised. The rash may be accompanied by a headache, photophobia (sensitivity to light), and conjunctivitis (inflammation of the membrane that covers the white part of the eye). LCMV is a viral infection that can be transmitted through contact with rodents or their urine, saliva, or nesting materials. It can also be transmitted through contact with infected people, although this is less common. The virus can cause serious complications, including meningitis, encephalitis, and hepatitis. LCMV is diagnosed through a blood test, and treatment involves supportive care and antiviral medications.\n",
            "\n",
            "The text discusses the symptoms of Lymphocytic Choriomeningitis (LCMV), a viral infection that can be transmitted through contact with rodents or their urine, saliva, or nesting materials. The symptoms usually occur 8-13 days after exposure and include fever, malaise, lack of appetite, muscle aches, headache, nausea, vomiting, sore throat, cough, joint pain, chest pain, testicular pain, and parotid (salivary gland) pain. The second phase of the illness, which may last for several days, is characterized by a rash that appears on the trunk and extremities, headache, photophobia (sensitivity to light), and conjunctivitis (inflammation of the membrane that covers the white part of the eye). LCMV can cause serious complications, including meningitis, encephalitis, and hepatitis. The virus is diagnosed through a blood test, and treatment involves supportive care and antiviral medications.\u001b[0m\n",
            "Thought:\u001b[32;1m\u001b[1;3m Do I need to use a tool? No\n",
            "AI: The symptoms of Lymphocytic Choriomeningitis (LCMV) usually include fever, malaise, lack of appetite, muscle aches, headache, nausea, vomiting, sore throat, cough, joint pain, chest pain, testicular pain, and parotid (salivary gland) pain. The second phase of the illness is characterized by a rash that appears on the trunk and extremities, headache, photophobia (sensitivity to light), and conjunctivitis (inflammation of the membrane that covers the white part of the eye). LCMV can cause serious complications, including meningitis, encephalitis, and hepatitis. The virus is diagnosed through a blood test, and treatment involves supportive care and antiviral medications.\u001b[0m\n",
            "\n",
            "\u001b[1m> Finished chain.\u001b[0m\n"
          ]
        },
        {
          "data": {
            "text/plain": [
              "{'input': 'state the symptoms of Lymphocytic Choriomeningitis and summarize the answer.',\n",
              " 'chat_history': [HumanMessage(content='Is this an important illness?', additional_kwargs={}, response_metadata={}),\n",
              "  AIMessage(content='Yes, Lymphocytic Choriomeningitis (LCMV) is an important illness. It is a viral infection that can cause inflammation of the membranes surrounding the brain and spinal cord, and can lead to serious complications if left untreated. It is important to seek medical attention if you suspect you may have LCMV, as early treatment can help improve the chances of a good outcome.', additional_kwargs={}, response_metadata={}),\n",
              "  HumanMessage(content='Do you know who is Clark Kent?', additional_kwargs={}, response_metadata={}),\n",
              "  AIMessage(content='Clark Kent is a fictional character who is the alter ego of Superman in the DC Comics universe. He is a journalist who works for the Daily Planet and is known for his mild-mannered and unassuming demeanor. In his secret identity as Superman, he is a powerful superhero with extraordinary abilities such as super strength, speed, invulnerability, and flight. Clark Kent is often portrayed as being in love with Lois Lane, a fellow journalist at the Daily Planet.', additional_kwargs={}, response_metadata={}),\n",
              "  HumanMessage(content='Give me the area of square of 2x2', additional_kwargs={}, response_metadata={}),\n",
              "  AIMessage(content='The area of a square with side length 2 is 2*2 = 4 square units.', additional_kwargs={}, response_metadata={}),\n",
              "  HumanMessage(content='Give me the area of square of 2x2', additional_kwargs={}, response_metadata={}),\n",
              "  AIMessage(content='The area of a square with side length 2 is 2*2 = 4 square units.', additional_kwargs={}, response_metadata={})],\n",
              " 'output': 'The symptoms of Lymphocytic Choriomeningitis (LCMV) usually include fever, malaise, lack of appetite, muscle aches, headache, nausea, vomiting, sore throat, cough, joint pain, chest pain, testicular pain, and parotid (salivary gland) pain. The second phase of the illness is characterized by a rash that appears on the trunk and extremities, headache, photophobia (sensitivity to light), and conjunctivitis (inflammation of the membrane that covers the white part of the eye). LCMV can cause serious complications, including meningitis, encephalitis, and hepatitis. The virus is diagnosed through a blood test, and treatment involves supportive care and antiviral medications.'}"
            ]
          },
          "metadata": {},
          "output_type": "display_data"
        }
      ],
      "source": [
        "agent_executor.invoke({\"input\": \"\"\"state the symptoms of Lymphocytic Choriomeningitis and summarize the answer.\"\"\"})"
      ]
    },
    {
      "cell_type": "markdown",
      "metadata": {},
      "source": [
        "To make queries we simply call the `agent` directly.\n",
        "\n",
        "First i will try a order not related to the Medical field."
      ]
    },
    {
      "cell_type": "code",
      "execution_count": null,
      "metadata": {},
      "outputs": [
        {
          "name": "stdout",
          "output_type": "stream",
          "text": [
            "\n",
            "\n",
            "\u001b[1m> Entering new AgentExecutor chain...\u001b[0m\n",
            "\u001b[32;1m\u001b[1;3m\n",
            "Thought: Do I need to use a tool? No\n",
            "AI: The area of a square with side length 2 is 2*2 = 4 square units.\u001b[0m\n",
            "\n",
            "\u001b[1m> Finished chain.\u001b[0m\n"
          ]
        },
        {
          "data": {
            "text/plain": [
              "{'input': 'Give me the area of square of 2x2',\n",
              " 'chat_history': [HumanMessage(content='Do you know who is Clark Kent?', additional_kwargs={}, response_metadata={}),\n",
              "  AIMessage(content='Clark Kent is a fictional character who is the alter ego of Superman in the DC Comics universe. He is a journalist who works for the Daily Planet and is known for his mild-mannered and unassuming demeanor. In his secret identity as Superman, he is a powerful superhero with extraordinary abilities such as super strength, speed, invulnerability, and flight. Clark Kent is often portrayed as being in love with Lois Lane, a fellow journalist at the Daily Planet.', additional_kwargs={}, response_metadata={}),\n",
              "  HumanMessage(content='Give me the area of square of 2x2', additional_kwargs={}, response_metadata={}),\n",
              "  AIMessage(content='The area of a square with side length 2 is 2*2 = 4 square units.', additional_kwargs={}, response_metadata={}),\n",
              "  HumanMessage(content='Give me the area of square of 2x2', additional_kwargs={}, response_metadata={}),\n",
              "  AIMessage(content='The area of a square with side length 2 is 2*2 = 4 square units.', additional_kwargs={}, response_metadata={}),\n",
              "  HumanMessage(content='state the symptoms of Lymphocytic Choriomeningitis and summarize the answer.', additional_kwargs={}, response_metadata={}),\n",
              "  AIMessage(content='The symptoms of Lymphocytic Choriomeningitis (LCMV) usually include fever, malaise, lack of appetite, muscle aches, headache, nausea, vomiting, sore throat, cough, joint pain, chest pain, testicular pain, and parotid (salivary gland) pain. The second phase of the illness is characterized by a rash that appears on the trunk and extremities, headache, photophobia (sensitivity to light), and conjunctivitis (inflammation of the membrane that covers the white part of the eye). LCMV can cause serious complications, including meningitis, encephalitis, and hepatitis. The virus is diagnosed through a blood test, and treatment involves supportive care and antiviral medications.', additional_kwargs={}, response_metadata={})],\n",
              " 'output': 'The area of a square with side length 2 is 2*2 = 4 square units.'}"
            ]
          },
          "metadata": {},
          "output_type": "display_data"
        }
      ],
      "source": [
        "agent_executor.invoke({\"input\": \"\"\"Give me the area of square of 2x2\"\"\"})"
      ]
    },
    {
      "cell_type": "markdown",
      "metadata": {},
      "source": [
        "Perfect, the model has responded without accessing the configured knowledge database.\n",
        "\n",
        "Now I will try with a question that is also not related to health."
      ]
    },
    {
      "cell_type": "code",
      "execution_count": null,
      "metadata": {},
      "outputs": [
        {
          "name": "stdout",
          "output_type": "stream",
          "text": [
            "\n",
            "\n",
            "\u001b[1m> Entering new AgentExecutor chain...\u001b[0m\n",
            "\u001b[32;1m\u001b[1;3m\n",
            "Thought: Do I need to use a tool? No\n",
            "AI: Clark Kent is a fictional character who is the alter ego of Superman in the DC Comics universe. He is a journalist who works for the Daily Planet and is known for his mild-mannered and unassuming demeanor. In his secret identity as Superman, he is a powerful superhero with extraordinary abilities, including super strength, speed, invulnerability, and flight. Clark Kent is often portrayed as being in love with Lois Lane, a fellow journalist at the Daily Planet. The character of Clark Kent was created by Jerry Siegel and Joe Shuster, and first appeared in the comic book Action Comics #1 in 1938.\u001b[0m\n",
            "\n",
            "\u001b[1m> Finished chain.\u001b[0m\n"
          ]
        },
        {
          "data": {
            "text/plain": [
              "{'input': 'Do you know who is Clark Kent?',\n",
              " 'chat_history': [HumanMessage(content='Give me the area of square of 2x2', additional_kwargs={}, response_metadata={}),\n",
              "  AIMessage(content='The area of a square with side length 2 is 2*2 = 4 square units.', additional_kwargs={}, response_metadata={}),\n",
              "  HumanMessage(content='Give me the area of square of 2x2', additional_kwargs={}, response_metadata={}),\n",
              "  AIMessage(content='The area of a square with side length 2 is 2*2 = 4 square units.', additional_kwargs={}, response_metadata={}),\n",
              "  HumanMessage(content='state the symptoms of Lymphocytic Choriomeningitis and summarize the answer.', additional_kwargs={}, response_metadata={}),\n",
              "  AIMessage(content='The symptoms of Lymphocytic Choriomeningitis (LCMV) usually include fever, malaise, lack of appetite, muscle aches, headache, nausea, vomiting, sore throat, cough, joint pain, chest pain, testicular pain, and parotid (salivary gland) pain. The second phase of the illness is characterized by a rash that appears on the trunk and extremities, headache, photophobia (sensitivity to light), and conjunctivitis (inflammation of the membrane that covers the white part of the eye). LCMV can cause serious complications, including meningitis, encephalitis, and hepatitis. The virus is diagnosed through a blood test, and treatment involves supportive care and antiviral medications.', additional_kwargs={}, response_metadata={}),\n",
              "  HumanMessage(content='Give me the area of square of 2x2', additional_kwargs={}, response_metadata={}),\n",
              "  AIMessage(content='The area of a square with side length 2 is 2*2 = 4 square units.', additional_kwargs={}, response_metadata={})],\n",
              " 'output': 'Clark Kent is a fictional character who is the alter ego of Superman in the DC Comics universe. He is a journalist who works for the Daily Planet and is known for his mild-mannered and unassuming demeanor. In his secret identity as Superman, he is a powerful superhero with extraordinary abilities, including super strength, speed, invulnerability, and flight. Clark Kent is often portrayed as being in love with Lois Lane, a fellow journalist at the Daily Planet. The character of Clark Kent was created by Jerry Siegel and Joe Shuster, and first appeared in the comic book Action Comics #1 in 1938.'}"
            ]
          },
          "metadata": {},
          "output_type": "display_data"
        }
      ],
      "source": [
        "agent_executor.invoke({\"input\": \"\"\"Do you know who is Clark Kent?\"\"\"})"
      ]
    },
    {
      "cell_type": "markdown",
      "metadata": {},
      "source": [
        "It has not accessed either, as the model has been able to identify that it is not a question related to the database that LangChain provides.\n",
        "\n",
        "Now it's time to try with a question related to Medicine. Let's see if the model can understand that it should first look for information in the vector database at its disposal."
      ]
    },
    {
      "cell_type": "code",
      "execution_count": null,
      "metadata": {},
      "outputs": [],
      "source": [
        " agent_executor.memory.clear()"
      ]
    },
    {
      "cell_type": "code",
      "execution_count": null,
      "metadata": {},
      "outputs": [
        {
          "name": "stdout",
          "output_type": "stream",
          "text": [
            "\n",
            "\n",
            "\u001b[1m> Entering new AgentExecutor chain...\u001b[0m\n",
            "\u001b[32;1m\u001b[1;3m\n",
            "Thought: Do I need to use a tool? Yes\n",
            "Action: Medical QA\n",
            "Action Input: How can I confirm the diagnosis of Botulism?\u001b[0m\n",
            "Observation: \u001b[36;1m\u001b[1;3m You can confirm the diagnosis of botulism by performing special tests such as a brain scan, spinal fluid examination, nerve conduction test (electromyography, or EMG), and a tensilon test for myasthenia gravis. Additionally, tests for botulinum toxin and for bacteria that cause botulism can be performed at some state health department laboratories and at CDC.\u001b[0m\n",
            "Thought:\u001b[32;1m\u001b[1;3m Do I need to use a tool? No\n",
            "AI: To confirm the diagnosis of Botulism, you can perform special tests such as a brain scan, spinal fluid examination, nerve conduction test (electromyography, or EMG), and a tensilon test for myasthenia gravis. Additionally, tests for botulinum toxin and for bacteria that cause botulism can be performed at some state health department laboratories and at CDC.\u001b[0m\n",
            "\n",
            "\u001b[1m> Finished chain.\u001b[0m\n"
          ]
        },
        {
          "data": {
            "text/plain": [
              "{'input': 'I have a patient that can have Botulism,how can I confirm the diagnosis?',\n",
              " 'chat_history': [],\n",
              " 'output': 'To confirm the diagnosis of Botulism, you can perform special tests such as a brain scan, spinal fluid examination, nerve conduction test (electromyography, or EMG), and a tensilon test for myasthenia gravis. Additionally, tests for botulinum toxin and for bacteria that cause botulism can be performed at some state health department laboratories and at CDC.'}"
            ]
          },
          "metadata": {},
          "output_type": "display_data"
        }
      ],
      "source": [
        "agent_executor.invoke({\"input\": \"\"\"I have a patient that can have Botulism,how can I confirm the diagnosis?\"\"\"})"
      ]
    },
    {
      "cell_type": "markdown",
      "metadata": {},
      "source": [
        "Perfect, the most important thing for us is that it has been able to identify that it should go to the medical database to search for information about the symptoms."
      ]
    },
    {
      "cell_type": "code",
      "execution_count": null,
      "metadata": {},
      "outputs": [
        {
          "name": "stdout",
          "output_type": "stream",
          "text": [
            "\n",
            "\n",
            "\u001b[1m> Entering new AgentExecutor chain...\u001b[0m\n",
            "\u001b[32;1m\u001b[1;3m\n",
            "Thought: Do I need to use a tool? No\n",
            "AI: Yes, Botulism is a serious and potentially life-threatening illness. It is caused by a neurotoxin produced by the bacterium Clostridium botulinum, and it can cause paralysis of the muscles that control breathing, swallowing, and speaking. If left untreated, it can be fatal. It is important to diagnose and treat Botulism as soon as possible to prevent serious complications.\u001b[0m\n",
            "\n",
            "\u001b[1m> Finished chain.\u001b[0m\n"
          ]
        },
        {
          "data": {
            "text/plain": [
              "{'input': 'Is this an important illness?',\n",
              " 'chat_history': [HumanMessage(content='I have a patient that can have Botulism,how can I confirm the diagnosis?', additional_kwargs={}, response_metadata={}),\n",
              "  AIMessage(content='To confirm the diagnosis of Botulism, you can perform special tests such as a brain scan, spinal fluid examination, nerve conduction test (electromyography, or EMG), and a tensilon test for myasthenia gravis. Additionally, tests for botulinum toxin and for bacteria that cause botulism can be performed at some state health department laboratories and at CDC.', additional_kwargs={}, response_metadata={})],\n",
              " 'output': 'Yes, Botulism is a serious and potentially life-threatening illness. It is caused by a neurotoxin produced by the bacterium Clostridium botulinum, and it can cause paralysis of the muscles that control breathing, swallowing, and speaking. If left untreated, it can be fatal. It is important to diagnose and treat Botulism as soon as possible to prevent serious complications.'}"
            ]
          },
          "metadata": {},
          "output_type": "display_data"
        }
      ],
      "source": [
        "agent_executor.invoke({\"input\": \"\"\"Is this an important illness?\"\"\"})"
      ]
    }
  ],
"metadata": {
  "accelerator": "GPU",
  "colab": {
    "gpuType": "T4",
    "provenance": []
  },
  "kernelspec": {
    "display_name": "Python 3",
    "name": "python3"
  },
  "language_info": {
    "name": "python",
    "version": "3.9.12"
  }
},
"nbformat": 4,
"nbformat_minor": 0
}